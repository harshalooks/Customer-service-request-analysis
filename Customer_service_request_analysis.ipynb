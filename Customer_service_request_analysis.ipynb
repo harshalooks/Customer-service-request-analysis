{
  "nbformat": 4,
  "nbformat_minor": 0,
  "metadata": {
    "colab": {
      "name": "Customer-service-request-analysis.ipynb",
      "provenance": [],
      "collapsed_sections": []
    },
    "kernelspec": {
      "name": "python3",
      "display_name": "Python 3"
    },
    "language_info": {
      "name": "python"
    }
  },
  "cells": [
    {
      "cell_type": "code",
      "metadata": {
        "id": "Zo-7_Xm8TFWH"
      },
      "source": [
        "import scipy.stats as stats #importing libraries\n",
        "import pandas as pd"
      ],
      "execution_count": 1,
      "outputs": []
    },
    {
      "cell_type": "code",
      "metadata": {
        "id": "eQF8H0ivUVsW"
      },
      "source": [
        "req=pd.read_csv('311_Service_Requests_from_2010_to_Present.csv')"
      ],
      "execution_count": 2,
      "outputs": []
    },
    {
      "cell_type": "code",
      "metadata": {
        "id": "QeqG8onqTgoz",
        "colab": {
          "base_uri": "https://localhost:8080/",
          "height": 576
        },
        "outputId": "c11512d2-64db-4c6b-b8f6-3fb581eeb200"
      },
      "source": [
        "req.head()"
      ],
      "execution_count": 3,
      "outputs": [
        {
          "output_type": "execute_result",
          "data": {
            "text/html": [
              "<div>\n",
              "<style scoped>\n",
              "    .dataframe tbody tr th:only-of-type {\n",
              "        vertical-align: middle;\n",
              "    }\n",
              "\n",
              "    .dataframe tbody tr th {\n",
              "        vertical-align: top;\n",
              "    }\n",
              "\n",
              "    .dataframe thead th {\n",
              "        text-align: right;\n",
              "    }\n",
              "</style>\n",
              "<table border=\"1\" class=\"dataframe\">\n",
              "  <thead>\n",
              "    <tr style=\"text-align: right;\">\n",
              "      <th></th>\n",
              "      <th>Unique Key</th>\n",
              "      <th>Created Date</th>\n",
              "      <th>Closed Date</th>\n",
              "      <th>Agency</th>\n",
              "      <th>Agency Name</th>\n",
              "      <th>Complaint Type</th>\n",
              "      <th>Descriptor</th>\n",
              "      <th>Location Type</th>\n",
              "      <th>Incident Zip</th>\n",
              "      <th>Incident Address</th>\n",
              "      <th>Street Name</th>\n",
              "      <th>Cross Street 1</th>\n",
              "      <th>Cross Street 2</th>\n",
              "      <th>Intersection Street 1</th>\n",
              "      <th>Intersection Street 2</th>\n",
              "      <th>Address Type</th>\n",
              "      <th>City</th>\n",
              "      <th>Landmark</th>\n",
              "      <th>Facility Type</th>\n",
              "      <th>Status</th>\n",
              "      <th>Due Date</th>\n",
              "      <th>Resolution Description</th>\n",
              "      <th>Resolution Action Updated Date</th>\n",
              "      <th>Community Board</th>\n",
              "      <th>Borough</th>\n",
              "      <th>X Coordinate (State Plane)</th>\n",
              "      <th>Y Coordinate (State Plane)</th>\n",
              "      <th>Park Facility Name</th>\n",
              "      <th>Park Borough</th>\n",
              "      <th>School Name</th>\n",
              "      <th>School Number</th>\n",
              "      <th>School Region</th>\n",
              "      <th>School Code</th>\n",
              "      <th>School Phone Number</th>\n",
              "      <th>School Address</th>\n",
              "      <th>School City</th>\n",
              "      <th>School State</th>\n",
              "      <th>School Zip</th>\n",
              "      <th>School Not Found</th>\n",
              "      <th>School or Citywide Complaint</th>\n",
              "      <th>Vehicle Type</th>\n",
              "      <th>Taxi Company Borough</th>\n",
              "      <th>Taxi Pick Up Location</th>\n",
              "      <th>Bridge Highway Name</th>\n",
              "      <th>Bridge Highway Direction</th>\n",
              "      <th>Road Ramp</th>\n",
              "      <th>Bridge Highway Segment</th>\n",
              "      <th>Garage Lot Name</th>\n",
              "      <th>Ferry Direction</th>\n",
              "      <th>Ferry Terminal Name</th>\n",
              "      <th>Latitude</th>\n",
              "      <th>Longitude</th>\n",
              "      <th>Location</th>\n",
              "    </tr>\n",
              "  </thead>\n",
              "  <tbody>\n",
              "    <tr>\n",
              "      <th>0</th>\n",
              "      <td>32310363</td>\n",
              "      <td>12/31/2015 11:59:45 PM</td>\n",
              "      <td>01-01-16 0:55</td>\n",
              "      <td>NYPD</td>\n",
              "      <td>New York City Police Department</td>\n",
              "      <td>Noise - Street/Sidewalk</td>\n",
              "      <td>Loud Music/Party</td>\n",
              "      <td>Street/Sidewalk</td>\n",
              "      <td>10034.0</td>\n",
              "      <td>71 VERMILYEA AVENUE</td>\n",
              "      <td>VERMILYEA AVENUE</td>\n",
              "      <td>ACADEMY STREET</td>\n",
              "      <td>WEST 204 STREET</td>\n",
              "      <td>NaN</td>\n",
              "      <td>NaN</td>\n",
              "      <td>ADDRESS</td>\n",
              "      <td>NEW YORK</td>\n",
              "      <td>NaN</td>\n",
              "      <td>Precinct</td>\n",
              "      <td>Closed</td>\n",
              "      <td>01-01-16 7:59</td>\n",
              "      <td>The Police Department responded and upon arriv...</td>\n",
              "      <td>01-01-16 0:55</td>\n",
              "      <td>12 MANHATTAN</td>\n",
              "      <td>MANHATTAN</td>\n",
              "      <td>1005409.0</td>\n",
              "      <td>254678.0</td>\n",
              "      <td>Unspecified</td>\n",
              "      <td>MANHATTAN</td>\n",
              "      <td>Unspecified</td>\n",
              "      <td>Unspecified</td>\n",
              "      <td>Unspecified</td>\n",
              "      <td>Unspecified</td>\n",
              "      <td>Unspecified</td>\n",
              "      <td>Unspecified</td>\n",
              "      <td>Unspecified</td>\n",
              "      <td>Unspecified</td>\n",
              "      <td>Unspecified</td>\n",
              "      <td>N</td>\n",
              "      <td>NaN</td>\n",
              "      <td>NaN</td>\n",
              "      <td>NaN</td>\n",
              "      <td>NaN</td>\n",
              "      <td>NaN</td>\n",
              "      <td>NaN</td>\n",
              "      <td>NaN</td>\n",
              "      <td>NaN</td>\n",
              "      <td>NaN</td>\n",
              "      <td>NaN</td>\n",
              "      <td>NaN</td>\n",
              "      <td>40.865682</td>\n",
              "      <td>-73.923501</td>\n",
              "      <td>(40.86568153633767, -73.92350095571744)</td>\n",
              "    </tr>\n",
              "    <tr>\n",
              "      <th>1</th>\n",
              "      <td>32309934</td>\n",
              "      <td>12/31/2015 11:59:44 PM</td>\n",
              "      <td>01-01-16 1:26</td>\n",
              "      <td>NYPD</td>\n",
              "      <td>New York City Police Department</td>\n",
              "      <td>Blocked Driveway</td>\n",
              "      <td>No Access</td>\n",
              "      <td>Street/Sidewalk</td>\n",
              "      <td>11105.0</td>\n",
              "      <td>27-07 23 AVENUE</td>\n",
              "      <td>23 AVENUE</td>\n",
              "      <td>27 STREET</td>\n",
              "      <td>28 STREET</td>\n",
              "      <td>NaN</td>\n",
              "      <td>NaN</td>\n",
              "      <td>ADDRESS</td>\n",
              "      <td>ASTORIA</td>\n",
              "      <td>NaN</td>\n",
              "      <td>Precinct</td>\n",
              "      <td>Closed</td>\n",
              "      <td>01-01-16 7:59</td>\n",
              "      <td>The Police Department responded to the complai...</td>\n",
              "      <td>01-01-16 1:26</td>\n",
              "      <td>01 QUEENS</td>\n",
              "      <td>QUEENS</td>\n",
              "      <td>1007766.0</td>\n",
              "      <td>221986.0</td>\n",
              "      <td>Unspecified</td>\n",
              "      <td>QUEENS</td>\n",
              "      <td>Unspecified</td>\n",
              "      <td>Unspecified</td>\n",
              "      <td>Unspecified</td>\n",
              "      <td>Unspecified</td>\n",
              "      <td>Unspecified</td>\n",
              "      <td>Unspecified</td>\n",
              "      <td>Unspecified</td>\n",
              "      <td>Unspecified</td>\n",
              "      <td>Unspecified</td>\n",
              "      <td>N</td>\n",
              "      <td>NaN</td>\n",
              "      <td>NaN</td>\n",
              "      <td>NaN</td>\n",
              "      <td>NaN</td>\n",
              "      <td>NaN</td>\n",
              "      <td>NaN</td>\n",
              "      <td>NaN</td>\n",
              "      <td>NaN</td>\n",
              "      <td>NaN</td>\n",
              "      <td>NaN</td>\n",
              "      <td>NaN</td>\n",
              "      <td>40.775945</td>\n",
              "      <td>-73.915094</td>\n",
              "      <td>(40.775945312321085, -73.91509393898605)</td>\n",
              "    </tr>\n",
              "    <tr>\n",
              "      <th>2</th>\n",
              "      <td>32309159</td>\n",
              "      <td>12/31/2015 11:59:29 PM</td>\n",
              "      <td>01-01-16 4:51</td>\n",
              "      <td>NYPD</td>\n",
              "      <td>New York City Police Department</td>\n",
              "      <td>Blocked Driveway</td>\n",
              "      <td>No Access</td>\n",
              "      <td>Street/Sidewalk</td>\n",
              "      <td>10458.0</td>\n",
              "      <td>2897 VALENTINE AVENUE</td>\n",
              "      <td>VALENTINE AVENUE</td>\n",
              "      <td>EAST 198 STREET</td>\n",
              "      <td>EAST 199 STREET</td>\n",
              "      <td>NaN</td>\n",
              "      <td>NaN</td>\n",
              "      <td>ADDRESS</td>\n",
              "      <td>BRONX</td>\n",
              "      <td>NaN</td>\n",
              "      <td>Precinct</td>\n",
              "      <td>Closed</td>\n",
              "      <td>01-01-16 7:59</td>\n",
              "      <td>The Police Department responded and upon arriv...</td>\n",
              "      <td>01-01-16 4:51</td>\n",
              "      <td>07 BRONX</td>\n",
              "      <td>BRONX</td>\n",
              "      <td>1015081.0</td>\n",
              "      <td>256380.0</td>\n",
              "      <td>Unspecified</td>\n",
              "      <td>BRONX</td>\n",
              "      <td>Unspecified</td>\n",
              "      <td>Unspecified</td>\n",
              "      <td>Unspecified</td>\n",
              "      <td>Unspecified</td>\n",
              "      <td>Unspecified</td>\n",
              "      <td>Unspecified</td>\n",
              "      <td>Unspecified</td>\n",
              "      <td>Unspecified</td>\n",
              "      <td>Unspecified</td>\n",
              "      <td>N</td>\n",
              "      <td>NaN</td>\n",
              "      <td>NaN</td>\n",
              "      <td>NaN</td>\n",
              "      <td>NaN</td>\n",
              "      <td>NaN</td>\n",
              "      <td>NaN</td>\n",
              "      <td>NaN</td>\n",
              "      <td>NaN</td>\n",
              "      <td>NaN</td>\n",
              "      <td>NaN</td>\n",
              "      <td>NaN</td>\n",
              "      <td>40.870325</td>\n",
              "      <td>-73.888525</td>\n",
              "      <td>(40.870324522111424, -73.88852464418646)</td>\n",
              "    </tr>\n",
              "    <tr>\n",
              "      <th>3</th>\n",
              "      <td>32305098</td>\n",
              "      <td>12/31/2015 11:57:46 PM</td>\n",
              "      <td>01-01-16 7:43</td>\n",
              "      <td>NYPD</td>\n",
              "      <td>New York City Police Department</td>\n",
              "      <td>Illegal Parking</td>\n",
              "      <td>Commercial Overnight Parking</td>\n",
              "      <td>Street/Sidewalk</td>\n",
              "      <td>10461.0</td>\n",
              "      <td>2940 BAISLEY AVENUE</td>\n",
              "      <td>BAISLEY AVENUE</td>\n",
              "      <td>EDISON AVENUE</td>\n",
              "      <td>B STREET</td>\n",
              "      <td>NaN</td>\n",
              "      <td>NaN</td>\n",
              "      <td>ADDRESS</td>\n",
              "      <td>BRONX</td>\n",
              "      <td>NaN</td>\n",
              "      <td>Precinct</td>\n",
              "      <td>Closed</td>\n",
              "      <td>01-01-16 7:57</td>\n",
              "      <td>The Police Department responded to the complai...</td>\n",
              "      <td>01-01-16 7:43</td>\n",
              "      <td>10 BRONX</td>\n",
              "      <td>BRONX</td>\n",
              "      <td>1031740.0</td>\n",
              "      <td>243899.0</td>\n",
              "      <td>Unspecified</td>\n",
              "      <td>BRONX</td>\n",
              "      <td>Unspecified</td>\n",
              "      <td>Unspecified</td>\n",
              "      <td>Unspecified</td>\n",
              "      <td>Unspecified</td>\n",
              "      <td>Unspecified</td>\n",
              "      <td>Unspecified</td>\n",
              "      <td>Unspecified</td>\n",
              "      <td>Unspecified</td>\n",
              "      <td>Unspecified</td>\n",
              "      <td>N</td>\n",
              "      <td>NaN</td>\n",
              "      <td>NaN</td>\n",
              "      <td>NaN</td>\n",
              "      <td>NaN</td>\n",
              "      <td>NaN</td>\n",
              "      <td>NaN</td>\n",
              "      <td>NaN</td>\n",
              "      <td>NaN</td>\n",
              "      <td>NaN</td>\n",
              "      <td>NaN</td>\n",
              "      <td>NaN</td>\n",
              "      <td>40.835994</td>\n",
              "      <td>-73.828379</td>\n",
              "      <td>(40.83599404683083, -73.82837939584206)</td>\n",
              "    </tr>\n",
              "    <tr>\n",
              "      <th>4</th>\n",
              "      <td>32306529</td>\n",
              "      <td>12/31/2015 11:56:58 PM</td>\n",
              "      <td>01-01-16 3:24</td>\n",
              "      <td>NYPD</td>\n",
              "      <td>New York City Police Department</td>\n",
              "      <td>Illegal Parking</td>\n",
              "      <td>Blocked Sidewalk</td>\n",
              "      <td>Street/Sidewalk</td>\n",
              "      <td>11373.0</td>\n",
              "      <td>87-14 57 ROAD</td>\n",
              "      <td>57 ROAD</td>\n",
              "      <td>SEABURY STREET</td>\n",
              "      <td>HOFFMAN DRIVE</td>\n",
              "      <td>NaN</td>\n",
              "      <td>NaN</td>\n",
              "      <td>ADDRESS</td>\n",
              "      <td>ELMHURST</td>\n",
              "      <td>NaN</td>\n",
              "      <td>Precinct</td>\n",
              "      <td>Closed</td>\n",
              "      <td>01-01-16 7:56</td>\n",
              "      <td>The Police Department responded and upon arriv...</td>\n",
              "      <td>01-01-16 3:24</td>\n",
              "      <td>04 QUEENS</td>\n",
              "      <td>QUEENS</td>\n",
              "      <td>1019123.0</td>\n",
              "      <td>206375.0</td>\n",
              "      <td>Unspecified</td>\n",
              "      <td>QUEENS</td>\n",
              "      <td>Unspecified</td>\n",
              "      <td>Unspecified</td>\n",
              "      <td>Unspecified</td>\n",
              "      <td>Unspecified</td>\n",
              "      <td>Unspecified</td>\n",
              "      <td>Unspecified</td>\n",
              "      <td>Unspecified</td>\n",
              "      <td>Unspecified</td>\n",
              "      <td>Unspecified</td>\n",
              "      <td>N</td>\n",
              "      <td>NaN</td>\n",
              "      <td>NaN</td>\n",
              "      <td>NaN</td>\n",
              "      <td>NaN</td>\n",
              "      <td>NaN</td>\n",
              "      <td>NaN</td>\n",
              "      <td>NaN</td>\n",
              "      <td>NaN</td>\n",
              "      <td>NaN</td>\n",
              "      <td>NaN</td>\n",
              "      <td>NaN</td>\n",
              "      <td>40.733060</td>\n",
              "      <td>-73.874170</td>\n",
              "      <td>(40.733059618956815, -73.87416975810375)</td>\n",
              "    </tr>\n",
              "  </tbody>\n",
              "</table>\n",
              "</div>"
            ],
            "text/plain": [
              "   Unique Key  ...                                  Location\n",
              "0    32310363  ...   (40.86568153633767, -73.92350095571744)\n",
              "1    32309934  ...  (40.775945312321085, -73.91509393898605)\n",
              "2    32309159  ...  (40.870324522111424, -73.88852464418646)\n",
              "3    32305098  ...   (40.83599404683083, -73.82837939584206)\n",
              "4    32306529  ...  (40.733059618956815, -73.87416975810375)\n",
              "\n",
              "[5 rows x 53 columns]"
            ]
          },
          "metadata": {
            "tags": []
          },
          "execution_count": 3
        }
      ]
    },
    {
      "cell_type": "code",
      "metadata": {
        "colab": {
          "base_uri": "https://localhost:8080/"
        },
        "id": "yj7-OsibUhKK",
        "outputId": "d44cddd4-4e15-4f7d-b4dd-5c2fc311d2d4"
      },
      "source": [
        "for col in req.columns: \n",
        "    print(col)"
      ],
      "execution_count": 4,
      "outputs": [
        {
          "output_type": "stream",
          "text": [
            "Unique Key\n",
            "Created Date\n",
            "Closed Date\n",
            "Agency\n",
            "Agency Name\n",
            "Complaint Type\n",
            "Descriptor\n",
            "Location Type\n",
            "Incident Zip\n",
            "Incident Address\n",
            "Street Name\n",
            "Cross Street 1\n",
            "Cross Street 2\n",
            "Intersection Street 1\n",
            "Intersection Street 2\n",
            "Address Type\n",
            "City\n",
            "Landmark\n",
            "Facility Type\n",
            "Status\n",
            "Due Date\n",
            "Resolution Description\n",
            "Resolution Action Updated Date\n",
            "Community Board\n",
            "Borough\n",
            "X Coordinate (State Plane)\n",
            "Y Coordinate (State Plane)\n",
            "Park Facility Name\n",
            "Park Borough\n",
            "School Name\n",
            "School Number\n",
            "School Region\n",
            "School Code\n",
            "School Phone Number\n",
            "School Address\n",
            "School City\n",
            "School State\n",
            "School Zip\n",
            "School Not Found\n",
            "School or Citywide Complaint\n",
            "Vehicle Type\n",
            "Taxi Company Borough\n",
            "Taxi Pick Up Location\n",
            "Bridge Highway Name\n",
            "Bridge Highway Direction\n",
            "Road Ramp\n",
            "Bridge Highway Segment\n",
            "Garage Lot Name\n",
            "Ferry Direction\n",
            "Ferry Terminal Name\n",
            "Latitude\n",
            "Longitude\n",
            "Location\n"
          ],
          "name": "stdout"
        }
      ]
    },
    {
      "cell_type": "code",
      "metadata": {
        "id": "zrBeHScGUkYy"
      },
      "source": [
        "del req['School Not Found']\n",
        "del req['School or Citywide Complaint']\n",
        "del req['Vehicle Type']\n",
        "del req['Taxi Company Borough']\n",
        "del req['Taxi Pick Up Location']\n",
        "del req['Bridge Highway Name']\n",
        "del req['Bridge Highway Direction']\n",
        "del req['Garage Lot Name']\n",
        "del req['School Phone Number']\n",
        "del req['School Address']\n",
        "del req['School Region']\n",
        "del req['School Code']\n",
        "del req['School Name']\n",
        "del req['School Number']\n",
        "del req['School City']\n",
        "del req['Park Facility Name']\n",
        "del req['Unique Key']\n",
        "del req['Agency']\n",
        "del req['Agency Name']\n",
        "del req['Incident Zip']\n",
        "del req['Incident Address']\n",
        "del req['Street Name']\n",
        "del req['Cross Street 1']\n",
        "del req['Cross Street 2']\n",
        "del req['Intersection Street 1']\n",
        "del req['Intersection Street 2']\n",
        "del req['Address Type']\n",
        "del req['Landmark']\n",
        "del req['Facility Type']\n",
        "del req['Status']\n",
        "del req['Resolution Description']\n",
        "del req['X Coordinate (State Plane)']\n",
        "del req['Y Coordinate (State Plane)']\n",
        "del req['Road Ramp']\n",
        "del req['Bridge Highway Segment']\n",
        "del req['School State']\n",
        "del req['School Zip']\n",
        "del req['Latitude']\n",
        "del req['Longitude']\n",
        "del req['Park Borough']\n",
        "del req['Ferry Direction']\n",
        "del req['Ferry Terminal Name']"
      ],
      "execution_count": 5,
      "outputs": []
    },
    {
      "cell_type": "code",
      "metadata": {
        "id": "O7A5PWpCUqcN"
      },
      "source": [
        "req=req.dropna(subset=['Closed Date'])\n",
        "req=req.dropna(subset=['Descriptor'])\n",
        "req=req.dropna(subset=['Location Type'])\n",
        "req=req.dropna(subset=['Location'])"
      ],
      "execution_count": 6,
      "outputs": []
    },
    {
      "cell_type": "code",
      "metadata": {
        "colab": {
          "base_uri": "https://localhost:8080/",
          "height": 506
        },
        "id": "-gruqzvlUtyZ",
        "outputId": "ba4a14c4-6fe6-4524-b302-d30be2fee0dd"
      },
      "source": [
        "req.head()"
      ],
      "execution_count": 7,
      "outputs": [
        {
          "output_type": "execute_result",
          "data": {
            "text/html": [
              "<div>\n",
              "<style scoped>\n",
              "    .dataframe tbody tr th:only-of-type {\n",
              "        vertical-align: middle;\n",
              "    }\n",
              "\n",
              "    .dataframe tbody tr th {\n",
              "        vertical-align: top;\n",
              "    }\n",
              "\n",
              "    .dataframe thead th {\n",
              "        text-align: right;\n",
              "    }\n",
              "</style>\n",
              "<table border=\"1\" class=\"dataframe\">\n",
              "  <thead>\n",
              "    <tr style=\"text-align: right;\">\n",
              "      <th></th>\n",
              "      <th>Created Date</th>\n",
              "      <th>Closed Date</th>\n",
              "      <th>Complaint Type</th>\n",
              "      <th>Descriptor</th>\n",
              "      <th>Location Type</th>\n",
              "      <th>City</th>\n",
              "      <th>Due Date</th>\n",
              "      <th>Resolution Action Updated Date</th>\n",
              "      <th>Community Board</th>\n",
              "      <th>Borough</th>\n",
              "      <th>Location</th>\n",
              "    </tr>\n",
              "  </thead>\n",
              "  <tbody>\n",
              "    <tr>\n",
              "      <th>0</th>\n",
              "      <td>12/31/2015 11:59:45 PM</td>\n",
              "      <td>01-01-16 0:55</td>\n",
              "      <td>Noise - Street/Sidewalk</td>\n",
              "      <td>Loud Music/Party</td>\n",
              "      <td>Street/Sidewalk</td>\n",
              "      <td>NEW YORK</td>\n",
              "      <td>01-01-16 7:59</td>\n",
              "      <td>01-01-16 0:55</td>\n",
              "      <td>12 MANHATTAN</td>\n",
              "      <td>MANHATTAN</td>\n",
              "      <td>(40.86568153633767, -73.92350095571744)</td>\n",
              "    </tr>\n",
              "    <tr>\n",
              "      <th>1</th>\n",
              "      <td>12/31/2015 11:59:44 PM</td>\n",
              "      <td>01-01-16 1:26</td>\n",
              "      <td>Blocked Driveway</td>\n",
              "      <td>No Access</td>\n",
              "      <td>Street/Sidewalk</td>\n",
              "      <td>ASTORIA</td>\n",
              "      <td>01-01-16 7:59</td>\n",
              "      <td>01-01-16 1:26</td>\n",
              "      <td>01 QUEENS</td>\n",
              "      <td>QUEENS</td>\n",
              "      <td>(40.775945312321085, -73.91509393898605)</td>\n",
              "    </tr>\n",
              "    <tr>\n",
              "      <th>2</th>\n",
              "      <td>12/31/2015 11:59:29 PM</td>\n",
              "      <td>01-01-16 4:51</td>\n",
              "      <td>Blocked Driveway</td>\n",
              "      <td>No Access</td>\n",
              "      <td>Street/Sidewalk</td>\n",
              "      <td>BRONX</td>\n",
              "      <td>01-01-16 7:59</td>\n",
              "      <td>01-01-16 4:51</td>\n",
              "      <td>07 BRONX</td>\n",
              "      <td>BRONX</td>\n",
              "      <td>(40.870324522111424, -73.88852464418646)</td>\n",
              "    </tr>\n",
              "    <tr>\n",
              "      <th>3</th>\n",
              "      <td>12/31/2015 11:57:46 PM</td>\n",
              "      <td>01-01-16 7:43</td>\n",
              "      <td>Illegal Parking</td>\n",
              "      <td>Commercial Overnight Parking</td>\n",
              "      <td>Street/Sidewalk</td>\n",
              "      <td>BRONX</td>\n",
              "      <td>01-01-16 7:57</td>\n",
              "      <td>01-01-16 7:43</td>\n",
              "      <td>10 BRONX</td>\n",
              "      <td>BRONX</td>\n",
              "      <td>(40.83599404683083, -73.82837939584206)</td>\n",
              "    </tr>\n",
              "    <tr>\n",
              "      <th>4</th>\n",
              "      <td>12/31/2015 11:56:58 PM</td>\n",
              "      <td>01-01-16 3:24</td>\n",
              "      <td>Illegal Parking</td>\n",
              "      <td>Blocked Sidewalk</td>\n",
              "      <td>Street/Sidewalk</td>\n",
              "      <td>ELMHURST</td>\n",
              "      <td>01-01-16 7:56</td>\n",
              "      <td>01-01-16 3:24</td>\n",
              "      <td>04 QUEENS</td>\n",
              "      <td>QUEENS</td>\n",
              "      <td>(40.733059618956815, -73.87416975810375)</td>\n",
              "    </tr>\n",
              "  </tbody>\n",
              "</table>\n",
              "</div>"
            ],
            "text/plain": [
              "             Created Date  ...                                  Location\n",
              "0  12/31/2015 11:59:45 PM  ...   (40.86568153633767, -73.92350095571744)\n",
              "1  12/31/2015 11:59:44 PM  ...  (40.775945312321085, -73.91509393898605)\n",
              "2  12/31/2015 11:59:29 PM  ...  (40.870324522111424, -73.88852464418646)\n",
              "3  12/31/2015 11:57:46 PM  ...   (40.83599404683083, -73.82837939584206)\n",
              "4  12/31/2015 11:56:58 PM  ...  (40.733059618956815, -73.87416975810375)\n",
              "\n",
              "[5 rows x 11 columns]"
            ]
          },
          "metadata": {
            "tags": []
          },
          "execution_count": 7
        }
      ]
    },
    {
      "cell_type": "code",
      "metadata": {
        "colab": {
          "base_uri": "https://localhost:8080/"
        },
        "id": "fwd9FlLLUvz_",
        "outputId": "b2b0d058-47cd-4c82-9523-78c546ced789"
      },
      "source": [
        "\n",
        "req.info()"
      ],
      "execution_count": 8,
      "outputs": [
        {
          "output_type": "stream",
          "text": [
            "<class 'pandas.core.frame.DataFrame'>\n",
            "Int64Index: 1622 entries, 0 to 1665\n",
            "Data columns (total 11 columns):\n",
            " #   Column                          Non-Null Count  Dtype \n",
            "---  ------                          --------------  ----- \n",
            " 0   Created Date                    1622 non-null   object\n",
            " 1   Closed Date                     1622 non-null   object\n",
            " 2   Complaint Type                  1622 non-null   object\n",
            " 3   Descriptor                      1622 non-null   object\n",
            " 4   Location Type                   1622 non-null   object\n",
            " 5   City                            1622 non-null   object\n",
            " 6   Due Date                        1622 non-null   object\n",
            " 7   Resolution Action Updated Date  1622 non-null   object\n",
            " 8   Community Board                 1622 non-null   object\n",
            " 9   Borough                         1622 non-null   object\n",
            " 10  Location                        1622 non-null   object\n",
            "dtypes: object(11)\n",
            "memory usage: 152.1+ KB\n"
          ],
          "name": "stdout"
        }
      ]
    },
    {
      "cell_type": "code",
      "metadata": {
        "id": "fH84RPTTUx06"
      },
      "source": [
        "req['Created Date']=pd.to_datetime(req['Created Date'])"
      ],
      "execution_count": 9,
      "outputs": []
    },
    {
      "cell_type": "code",
      "metadata": {
        "colab": {
          "base_uri": "https://localhost:8080/"
        },
        "id": "Xhp8p1KDU0yg",
        "outputId": "096cf905-3d36-446e-ab50-40c17150b17f"
      },
      "source": [
        "req['Created Date']"
      ],
      "execution_count": 10,
      "outputs": [
        {
          "output_type": "execute_result",
          "data": {
            "text/plain": [
              "0      2015-12-31 23:59:45\n",
              "1      2015-12-31 23:59:44\n",
              "2      2015-12-31 23:59:29\n",
              "3      2015-12-31 23:57:46\n",
              "4      2015-12-31 23:56:58\n",
              "               ...        \n",
              "1661   2015-12-30 04:03:57\n",
              "1662   2015-12-30 04:02:30\n",
              "1663   2015-12-30 03:51:43\n",
              "1664   2015-12-30 03:49:33\n",
              "1665   2015-12-30 03:34:52\n",
              "Name: Created Date, Length: 1622, dtype: datetime64[ns]"
            ]
          },
          "metadata": {
            "tags": []
          },
          "execution_count": 10
        }
      ]
    },
    {
      "cell_type": "code",
      "metadata": {
        "id": "x3O131RsU2v0"
      },
      "source": [
        "\n",
        "req['Closed Date']=pd.to_datetime(req['Closed Date'])"
      ],
      "execution_count": 11,
      "outputs": []
    },
    {
      "cell_type": "code",
      "metadata": {
        "colab": {
          "base_uri": "https://localhost:8080/",
          "height": 506
        },
        "id": "Ao4Ru_ziU5EP",
        "outputId": "44d02d02-76a8-43c8-eb85-36ed1a41e7f1"
      },
      "source": [
        "req.head()"
      ],
      "execution_count": 12,
      "outputs": [
        {
          "output_type": "execute_result",
          "data": {
            "text/html": [
              "<div>\n",
              "<style scoped>\n",
              "    .dataframe tbody tr th:only-of-type {\n",
              "        vertical-align: middle;\n",
              "    }\n",
              "\n",
              "    .dataframe tbody tr th {\n",
              "        vertical-align: top;\n",
              "    }\n",
              "\n",
              "    .dataframe thead th {\n",
              "        text-align: right;\n",
              "    }\n",
              "</style>\n",
              "<table border=\"1\" class=\"dataframe\">\n",
              "  <thead>\n",
              "    <tr style=\"text-align: right;\">\n",
              "      <th></th>\n",
              "      <th>Created Date</th>\n",
              "      <th>Closed Date</th>\n",
              "      <th>Complaint Type</th>\n",
              "      <th>Descriptor</th>\n",
              "      <th>Location Type</th>\n",
              "      <th>City</th>\n",
              "      <th>Due Date</th>\n",
              "      <th>Resolution Action Updated Date</th>\n",
              "      <th>Community Board</th>\n",
              "      <th>Borough</th>\n",
              "      <th>Location</th>\n",
              "    </tr>\n",
              "  </thead>\n",
              "  <tbody>\n",
              "    <tr>\n",
              "      <th>0</th>\n",
              "      <td>2015-12-31 23:59:45</td>\n",
              "      <td>2016-01-01 00:55:00</td>\n",
              "      <td>Noise - Street/Sidewalk</td>\n",
              "      <td>Loud Music/Party</td>\n",
              "      <td>Street/Sidewalk</td>\n",
              "      <td>NEW YORK</td>\n",
              "      <td>01-01-16 7:59</td>\n",
              "      <td>01-01-16 0:55</td>\n",
              "      <td>12 MANHATTAN</td>\n",
              "      <td>MANHATTAN</td>\n",
              "      <td>(40.86568153633767, -73.92350095571744)</td>\n",
              "    </tr>\n",
              "    <tr>\n",
              "      <th>1</th>\n",
              "      <td>2015-12-31 23:59:44</td>\n",
              "      <td>2016-01-01 01:26:00</td>\n",
              "      <td>Blocked Driveway</td>\n",
              "      <td>No Access</td>\n",
              "      <td>Street/Sidewalk</td>\n",
              "      <td>ASTORIA</td>\n",
              "      <td>01-01-16 7:59</td>\n",
              "      <td>01-01-16 1:26</td>\n",
              "      <td>01 QUEENS</td>\n",
              "      <td>QUEENS</td>\n",
              "      <td>(40.775945312321085, -73.91509393898605)</td>\n",
              "    </tr>\n",
              "    <tr>\n",
              "      <th>2</th>\n",
              "      <td>2015-12-31 23:59:29</td>\n",
              "      <td>2016-01-01 04:51:00</td>\n",
              "      <td>Blocked Driveway</td>\n",
              "      <td>No Access</td>\n",
              "      <td>Street/Sidewalk</td>\n",
              "      <td>BRONX</td>\n",
              "      <td>01-01-16 7:59</td>\n",
              "      <td>01-01-16 4:51</td>\n",
              "      <td>07 BRONX</td>\n",
              "      <td>BRONX</td>\n",
              "      <td>(40.870324522111424, -73.88852464418646)</td>\n",
              "    </tr>\n",
              "    <tr>\n",
              "      <th>3</th>\n",
              "      <td>2015-12-31 23:57:46</td>\n",
              "      <td>2016-01-01 07:43:00</td>\n",
              "      <td>Illegal Parking</td>\n",
              "      <td>Commercial Overnight Parking</td>\n",
              "      <td>Street/Sidewalk</td>\n",
              "      <td>BRONX</td>\n",
              "      <td>01-01-16 7:57</td>\n",
              "      <td>01-01-16 7:43</td>\n",
              "      <td>10 BRONX</td>\n",
              "      <td>BRONX</td>\n",
              "      <td>(40.83599404683083, -73.82837939584206)</td>\n",
              "    </tr>\n",
              "    <tr>\n",
              "      <th>4</th>\n",
              "      <td>2015-12-31 23:56:58</td>\n",
              "      <td>2016-01-01 03:24:00</td>\n",
              "      <td>Illegal Parking</td>\n",
              "      <td>Blocked Sidewalk</td>\n",
              "      <td>Street/Sidewalk</td>\n",
              "      <td>ELMHURST</td>\n",
              "      <td>01-01-16 7:56</td>\n",
              "      <td>01-01-16 3:24</td>\n",
              "      <td>04 QUEENS</td>\n",
              "      <td>QUEENS</td>\n",
              "      <td>(40.733059618956815, -73.87416975810375)</td>\n",
              "    </tr>\n",
              "  </tbody>\n",
              "</table>\n",
              "</div>"
            ],
            "text/plain": [
              "         Created Date  ...                                  Location\n",
              "0 2015-12-31 23:59:45  ...   (40.86568153633767, -73.92350095571744)\n",
              "1 2015-12-31 23:59:44  ...  (40.775945312321085, -73.91509393898605)\n",
              "2 2015-12-31 23:59:29  ...  (40.870324522111424, -73.88852464418646)\n",
              "3 2015-12-31 23:57:46  ...   (40.83599404683083, -73.82837939584206)\n",
              "4 2015-12-31 23:56:58  ...  (40.733059618956815, -73.87416975810375)\n",
              "\n",
              "[5 rows x 11 columns]"
            ]
          },
          "metadata": {
            "tags": []
          },
          "execution_count": 12
        }
      ]
    },
    {
      "cell_type": "code",
      "metadata": {
        "id": "HifwKPUGU9Bi"
      },
      "source": [
        "import numpy as np"
      ],
      "execution_count": 13,
      "outputs": []
    },
    {
      "cell_type": "code",
      "metadata": {
        "id": "5HAirxjmU_wp"
      },
      "source": [
        "req['Request_Closing_Time']=req['Closed Date']-req['Created Date']"
      ],
      "execution_count": 14,
      "outputs": []
    },
    {
      "cell_type": "code",
      "metadata": {
        "colab": {
          "base_uri": "https://localhost:8080/",
          "height": 526
        },
        "id": "UsN4mmBzVByx",
        "outputId": "cf21cc8f-01ee-40ba-f04a-901da0c9681c"
      },
      "source": [
        "req.head()"
      ],
      "execution_count": 15,
      "outputs": [
        {
          "output_type": "execute_result",
          "data": {
            "text/html": [
              "<div>\n",
              "<style scoped>\n",
              "    .dataframe tbody tr th:only-of-type {\n",
              "        vertical-align: middle;\n",
              "    }\n",
              "\n",
              "    .dataframe tbody tr th {\n",
              "        vertical-align: top;\n",
              "    }\n",
              "\n",
              "    .dataframe thead th {\n",
              "        text-align: right;\n",
              "    }\n",
              "</style>\n",
              "<table border=\"1\" class=\"dataframe\">\n",
              "  <thead>\n",
              "    <tr style=\"text-align: right;\">\n",
              "      <th></th>\n",
              "      <th>Created Date</th>\n",
              "      <th>Closed Date</th>\n",
              "      <th>Complaint Type</th>\n",
              "      <th>Descriptor</th>\n",
              "      <th>Location Type</th>\n",
              "      <th>City</th>\n",
              "      <th>Due Date</th>\n",
              "      <th>Resolution Action Updated Date</th>\n",
              "      <th>Community Board</th>\n",
              "      <th>Borough</th>\n",
              "      <th>Location</th>\n",
              "      <th>Request_Closing_Time</th>\n",
              "    </tr>\n",
              "  </thead>\n",
              "  <tbody>\n",
              "    <tr>\n",
              "      <th>0</th>\n",
              "      <td>2015-12-31 23:59:45</td>\n",
              "      <td>2016-01-01 00:55:00</td>\n",
              "      <td>Noise - Street/Sidewalk</td>\n",
              "      <td>Loud Music/Party</td>\n",
              "      <td>Street/Sidewalk</td>\n",
              "      <td>NEW YORK</td>\n",
              "      <td>01-01-16 7:59</td>\n",
              "      <td>01-01-16 0:55</td>\n",
              "      <td>12 MANHATTAN</td>\n",
              "      <td>MANHATTAN</td>\n",
              "      <td>(40.86568153633767, -73.92350095571744)</td>\n",
              "      <td>0 days 00:55:15</td>\n",
              "    </tr>\n",
              "    <tr>\n",
              "      <th>1</th>\n",
              "      <td>2015-12-31 23:59:44</td>\n",
              "      <td>2016-01-01 01:26:00</td>\n",
              "      <td>Blocked Driveway</td>\n",
              "      <td>No Access</td>\n",
              "      <td>Street/Sidewalk</td>\n",
              "      <td>ASTORIA</td>\n",
              "      <td>01-01-16 7:59</td>\n",
              "      <td>01-01-16 1:26</td>\n",
              "      <td>01 QUEENS</td>\n",
              "      <td>QUEENS</td>\n",
              "      <td>(40.775945312321085, -73.91509393898605)</td>\n",
              "      <td>0 days 01:26:16</td>\n",
              "    </tr>\n",
              "    <tr>\n",
              "      <th>2</th>\n",
              "      <td>2015-12-31 23:59:29</td>\n",
              "      <td>2016-01-01 04:51:00</td>\n",
              "      <td>Blocked Driveway</td>\n",
              "      <td>No Access</td>\n",
              "      <td>Street/Sidewalk</td>\n",
              "      <td>BRONX</td>\n",
              "      <td>01-01-16 7:59</td>\n",
              "      <td>01-01-16 4:51</td>\n",
              "      <td>07 BRONX</td>\n",
              "      <td>BRONX</td>\n",
              "      <td>(40.870324522111424, -73.88852464418646)</td>\n",
              "      <td>0 days 04:51:31</td>\n",
              "    </tr>\n",
              "    <tr>\n",
              "      <th>3</th>\n",
              "      <td>2015-12-31 23:57:46</td>\n",
              "      <td>2016-01-01 07:43:00</td>\n",
              "      <td>Illegal Parking</td>\n",
              "      <td>Commercial Overnight Parking</td>\n",
              "      <td>Street/Sidewalk</td>\n",
              "      <td>BRONX</td>\n",
              "      <td>01-01-16 7:57</td>\n",
              "      <td>01-01-16 7:43</td>\n",
              "      <td>10 BRONX</td>\n",
              "      <td>BRONX</td>\n",
              "      <td>(40.83599404683083, -73.82837939584206)</td>\n",
              "      <td>0 days 07:45:14</td>\n",
              "    </tr>\n",
              "    <tr>\n",
              "      <th>4</th>\n",
              "      <td>2015-12-31 23:56:58</td>\n",
              "      <td>2016-01-01 03:24:00</td>\n",
              "      <td>Illegal Parking</td>\n",
              "      <td>Blocked Sidewalk</td>\n",
              "      <td>Street/Sidewalk</td>\n",
              "      <td>ELMHURST</td>\n",
              "      <td>01-01-16 7:56</td>\n",
              "      <td>01-01-16 3:24</td>\n",
              "      <td>04 QUEENS</td>\n",
              "      <td>QUEENS</td>\n",
              "      <td>(40.733059618956815, -73.87416975810375)</td>\n",
              "      <td>0 days 03:27:02</td>\n",
              "    </tr>\n",
              "  </tbody>\n",
              "</table>\n",
              "</div>"
            ],
            "text/plain": [
              "         Created Date  ... Request_Closing_Time\n",
              "0 2015-12-31 23:59:45  ...      0 days 00:55:15\n",
              "1 2015-12-31 23:59:44  ...      0 days 01:26:16\n",
              "2 2015-12-31 23:59:29  ...      0 days 04:51:31\n",
              "3 2015-12-31 23:57:46  ...      0 days 07:45:14\n",
              "4 2015-12-31 23:56:58  ...      0 days 03:27:02\n",
              "\n",
              "[5 rows x 12 columns]"
            ]
          },
          "metadata": {
            "tags": []
          },
          "execution_count": 15
        }
      ]
    },
    {
      "cell_type": "code",
      "metadata": {
        "colab": {
          "base_uri": "https://localhost:8080/"
        },
        "id": "raQPWNvWVD3m",
        "outputId": "679cb9f3-5a7d-4549-a271-3403df25a86e"
      },
      "source": [
        "r=pd.DataFrame(req['Complaint Type'])\n",
        "s=pd.DataFrame(req['Request_Closing_Time'])\n",
        "t=pd.concat((r,s),axis=1)\n",
        "d=pd.DataFrame(req['Location'])\n",
        "e=pd.DataFrame(req['Location Type'])\n",
        "f=pd.concat((d,e),axis=1)\n",
        "g=pd.concat((t,f),axis=1)\n",
        "h=g.sort_values(by ='Request_Closing_Time' , ascending=False)\n",
        "print(\"Sorted complaint types based on the average ‘Request_Closing_Time’ : \")\n",
        "print(h)"
      ],
      "execution_count": 16,
      "outputs": [
        {
          "output_type": "stream",
          "text": [
            "Sorted complaint types based on the average ‘Request_Closing_Time’ : \n",
            "               Complaint Type  ...     Location Type\n",
            "24           Blocked Driveway  ...   Street/Sidewalk\n",
            "1662  Noise - Street/Sidewalk  ...   Street/Sidewalk\n",
            "1652  Noise - Street/Sidewalk  ...   Street/Sidewalk\n",
            "1507          Noise - Vehicle  ...   Street/Sidewalk\n",
            "1504          Illegal Parking  ...   Street/Sidewalk\n",
            "...                       ...  ...               ...\n",
            "132           Illegal Parking  ...   Street/Sidewalk\n",
            "41         Noise - Commercial  ...  Store/Commercial\n",
            "234           Illegal Parking  ...   Street/Sidewalk\n",
            "546                   Vending  ...   Street/Sidewalk\n",
            "596                   Vending  ...   Street/Sidewalk\n",
            "\n",
            "[1622 rows x 4 columns]\n"
          ],
          "name": "stdout"
        }
      ]
    },
    {
      "cell_type": "code",
      "metadata": {
        "colab": {
          "base_uri": "https://localhost:8080/",
          "height": 417
        },
        "id": "l4Ni95-FVGOb",
        "outputId": "e098a71f-9cf0-41e7-9631-bda80d4b0e54"
      },
      "source": [
        "sorted_data=pd.DataFrame(h)                \n",
        "sorted_data"
      ],
      "execution_count": 17,
      "outputs": [
        {
          "output_type": "execute_result",
          "data": {
            "text/html": [
              "<div>\n",
              "<style scoped>\n",
              "    .dataframe tbody tr th:only-of-type {\n",
              "        vertical-align: middle;\n",
              "    }\n",
              "\n",
              "    .dataframe tbody tr th {\n",
              "        vertical-align: top;\n",
              "    }\n",
              "\n",
              "    .dataframe thead th {\n",
              "        text-align: right;\n",
              "    }\n",
              "</style>\n",
              "<table border=\"1\" class=\"dataframe\">\n",
              "  <thead>\n",
              "    <tr style=\"text-align: right;\">\n",
              "      <th></th>\n",
              "      <th>Complaint Type</th>\n",
              "      <th>Request_Closing_Time</th>\n",
              "      <th>Location</th>\n",
              "      <th>Location Type</th>\n",
              "    </tr>\n",
              "  </thead>\n",
              "  <tbody>\n",
              "    <tr>\n",
              "      <th>24</th>\n",
              "      <td>Blocked Driveway</td>\n",
              "      <td>2 days 16:50:20</td>\n",
              "      <td>(40.87006255915965, -73.86432172842636)</td>\n",
              "      <td>Street/Sidewalk</td>\n",
              "    </tr>\n",
              "    <tr>\n",
              "      <th>1662</th>\n",
              "      <td>Noise - Street/Sidewalk</td>\n",
              "      <td>1 days 13:03:24</td>\n",
              "      <td>(40.86024195513732, -73.92842019162248)</td>\n",
              "      <td>Street/Sidewalk</td>\n",
              "    </tr>\n",
              "    <tr>\n",
              "      <th>1652</th>\n",
              "      <td>Noise - Street/Sidewalk</td>\n",
              "      <td>1 days 12:08:00</td>\n",
              "      <td>(40.86588098496191, -73.92631354584884)</td>\n",
              "      <td>Street/Sidewalk</td>\n",
              "    </tr>\n",
              "    <tr>\n",
              "      <th>1507</th>\n",
              "      <td>Noise - Vehicle</td>\n",
              "      <td>1 days 07:14:08</td>\n",
              "      <td>(40.86903400477784, -73.91727461539875)</td>\n",
              "      <td>Street/Sidewalk</td>\n",
              "    </tr>\n",
              "    <tr>\n",
              "      <th>1504</th>\n",
              "      <td>Illegal Parking</td>\n",
              "      <td>1 days 07:09:20</td>\n",
              "      <td>(40.86903400477784, -73.91727461539875)</td>\n",
              "      <td>Street/Sidewalk</td>\n",
              "    </tr>\n",
              "    <tr>\n",
              "      <th>...</th>\n",
              "      <td>...</td>\n",
              "      <td>...</td>\n",
              "      <td>...</td>\n",
              "      <td>...</td>\n",
              "    </tr>\n",
              "    <tr>\n",
              "      <th>132</th>\n",
              "      <td>Illegal Parking</td>\n",
              "      <td>0 days 00:04:11</td>\n",
              "      <td>(40.6803260972469, -73.88090678528529)</td>\n",
              "      <td>Street/Sidewalk</td>\n",
              "    </tr>\n",
              "    <tr>\n",
              "      <th>41</th>\n",
              "      <td>Noise - Commercial</td>\n",
              "      <td>0 days 00:04:01</td>\n",
              "      <td>(40.68186974794423, -73.94937196628798)</td>\n",
              "      <td>Store/Commercial</td>\n",
              "    </tr>\n",
              "    <tr>\n",
              "      <th>234</th>\n",
              "      <td>Illegal Parking</td>\n",
              "      <td>0 days 00:03:50</td>\n",
              "      <td>(40.70299176586782, -73.8776636180638)</td>\n",
              "      <td>Street/Sidewalk</td>\n",
              "    </tr>\n",
              "    <tr>\n",
              "      <th>546</th>\n",
              "      <td>Vending</td>\n",
              "      <td>0 days 00:03:38</td>\n",
              "      <td>(40.723612285331214, -73.99832601337529)</td>\n",
              "      <td>Street/Sidewalk</td>\n",
              "    </tr>\n",
              "    <tr>\n",
              "      <th>596</th>\n",
              "      <td>Vending</td>\n",
              "      <td>0 days 00:03:29</td>\n",
              "      <td>(40.72338721781093, -73.99851722806198)</td>\n",
              "      <td>Street/Sidewalk</td>\n",
              "    </tr>\n",
              "  </tbody>\n",
              "</table>\n",
              "<p>1622 rows × 4 columns</p>\n",
              "</div>"
            ],
            "text/plain": [
              "               Complaint Type  ...     Location Type\n",
              "24           Blocked Driveway  ...   Street/Sidewalk\n",
              "1662  Noise - Street/Sidewalk  ...   Street/Sidewalk\n",
              "1652  Noise - Street/Sidewalk  ...   Street/Sidewalk\n",
              "1507          Noise - Vehicle  ...   Street/Sidewalk\n",
              "1504          Illegal Parking  ...   Street/Sidewalk\n",
              "...                       ...  ...               ...\n",
              "132           Illegal Parking  ...   Street/Sidewalk\n",
              "41         Noise - Commercial  ...  Store/Commercial\n",
              "234           Illegal Parking  ...   Street/Sidewalk\n",
              "546                   Vending  ...   Street/Sidewalk\n",
              "596                   Vending  ...   Street/Sidewalk\n",
              "\n",
              "[1622 rows x 4 columns]"
            ]
          },
          "metadata": {
            "tags": []
          },
          "execution_count": 17
        }
      ]
    },
    {
      "cell_type": "code",
      "metadata": {
        "colab": {
          "base_uri": "https://localhost:8080/",
          "height": 203
        },
        "id": "BDNOs-5IVKOO",
        "outputId": "44af7f27-a9cd-44ae-8039-d7a22a961d26"
      },
      "source": [
        "\n",
        "sorted_data.head()"
      ],
      "execution_count": 18,
      "outputs": [
        {
          "output_type": "execute_result",
          "data": {
            "text/html": [
              "<div>\n",
              "<style scoped>\n",
              "    .dataframe tbody tr th:only-of-type {\n",
              "        vertical-align: middle;\n",
              "    }\n",
              "\n",
              "    .dataframe tbody tr th {\n",
              "        vertical-align: top;\n",
              "    }\n",
              "\n",
              "    .dataframe thead th {\n",
              "        text-align: right;\n",
              "    }\n",
              "</style>\n",
              "<table border=\"1\" class=\"dataframe\">\n",
              "  <thead>\n",
              "    <tr style=\"text-align: right;\">\n",
              "      <th></th>\n",
              "      <th>Complaint Type</th>\n",
              "      <th>Request_Closing_Time</th>\n",
              "      <th>Location</th>\n",
              "      <th>Location Type</th>\n",
              "    </tr>\n",
              "  </thead>\n",
              "  <tbody>\n",
              "    <tr>\n",
              "      <th>24</th>\n",
              "      <td>Blocked Driveway</td>\n",
              "      <td>2 days 16:50:20</td>\n",
              "      <td>(40.87006255915965, -73.86432172842636)</td>\n",
              "      <td>Street/Sidewalk</td>\n",
              "    </tr>\n",
              "    <tr>\n",
              "      <th>1662</th>\n",
              "      <td>Noise - Street/Sidewalk</td>\n",
              "      <td>1 days 13:03:24</td>\n",
              "      <td>(40.86024195513732, -73.92842019162248)</td>\n",
              "      <td>Street/Sidewalk</td>\n",
              "    </tr>\n",
              "    <tr>\n",
              "      <th>1652</th>\n",
              "      <td>Noise - Street/Sidewalk</td>\n",
              "      <td>1 days 12:08:00</td>\n",
              "      <td>(40.86588098496191, -73.92631354584884)</td>\n",
              "      <td>Street/Sidewalk</td>\n",
              "    </tr>\n",
              "    <tr>\n",
              "      <th>1507</th>\n",
              "      <td>Noise - Vehicle</td>\n",
              "      <td>1 days 07:14:08</td>\n",
              "      <td>(40.86903400477784, -73.91727461539875)</td>\n",
              "      <td>Street/Sidewalk</td>\n",
              "    </tr>\n",
              "    <tr>\n",
              "      <th>1504</th>\n",
              "      <td>Illegal Parking</td>\n",
              "      <td>1 days 07:09:20</td>\n",
              "      <td>(40.86903400477784, -73.91727461539875)</td>\n",
              "      <td>Street/Sidewalk</td>\n",
              "    </tr>\n",
              "  </tbody>\n",
              "</table>\n",
              "</div>"
            ],
            "text/plain": [
              "               Complaint Type  ...    Location Type\n",
              "24           Blocked Driveway  ...  Street/Sidewalk\n",
              "1662  Noise - Street/Sidewalk  ...  Street/Sidewalk\n",
              "1652  Noise - Street/Sidewalk  ...  Street/Sidewalk\n",
              "1507          Noise - Vehicle  ...  Street/Sidewalk\n",
              "1504          Illegal Parking  ...  Street/Sidewalk\n",
              "\n",
              "[5 rows x 4 columns]"
            ]
          },
          "metadata": {
            "tags": []
          },
          "execution_count": 18
        }
      ]
    },
    {
      "cell_type": "code",
      "metadata": {
        "colab": {
          "base_uri": "https://localhost:8080/",
          "height": 203
        },
        "id": "KD1O23x7VMYz",
        "outputId": "e2e8da26-f0ea-47ab-ae5c-6b6924cf78e9"
      },
      "source": [
        "sorted_data.tail()"
      ],
      "execution_count": 19,
      "outputs": [
        {
          "output_type": "execute_result",
          "data": {
            "text/html": [
              "<div>\n",
              "<style scoped>\n",
              "    .dataframe tbody tr th:only-of-type {\n",
              "        vertical-align: middle;\n",
              "    }\n",
              "\n",
              "    .dataframe tbody tr th {\n",
              "        vertical-align: top;\n",
              "    }\n",
              "\n",
              "    .dataframe thead th {\n",
              "        text-align: right;\n",
              "    }\n",
              "</style>\n",
              "<table border=\"1\" class=\"dataframe\">\n",
              "  <thead>\n",
              "    <tr style=\"text-align: right;\">\n",
              "      <th></th>\n",
              "      <th>Complaint Type</th>\n",
              "      <th>Request_Closing_Time</th>\n",
              "      <th>Location</th>\n",
              "      <th>Location Type</th>\n",
              "    </tr>\n",
              "  </thead>\n",
              "  <tbody>\n",
              "    <tr>\n",
              "      <th>132</th>\n",
              "      <td>Illegal Parking</td>\n",
              "      <td>0 days 00:04:11</td>\n",
              "      <td>(40.6803260972469, -73.88090678528529)</td>\n",
              "      <td>Street/Sidewalk</td>\n",
              "    </tr>\n",
              "    <tr>\n",
              "      <th>41</th>\n",
              "      <td>Noise - Commercial</td>\n",
              "      <td>0 days 00:04:01</td>\n",
              "      <td>(40.68186974794423, -73.94937196628798)</td>\n",
              "      <td>Store/Commercial</td>\n",
              "    </tr>\n",
              "    <tr>\n",
              "      <th>234</th>\n",
              "      <td>Illegal Parking</td>\n",
              "      <td>0 days 00:03:50</td>\n",
              "      <td>(40.70299176586782, -73.8776636180638)</td>\n",
              "      <td>Street/Sidewalk</td>\n",
              "    </tr>\n",
              "    <tr>\n",
              "      <th>546</th>\n",
              "      <td>Vending</td>\n",
              "      <td>0 days 00:03:38</td>\n",
              "      <td>(40.723612285331214, -73.99832601337529)</td>\n",
              "      <td>Street/Sidewalk</td>\n",
              "    </tr>\n",
              "    <tr>\n",
              "      <th>596</th>\n",
              "      <td>Vending</td>\n",
              "      <td>0 days 00:03:29</td>\n",
              "      <td>(40.72338721781093, -73.99851722806198)</td>\n",
              "      <td>Street/Sidewalk</td>\n",
              "    </tr>\n",
              "  </tbody>\n",
              "</table>\n",
              "</div>"
            ],
            "text/plain": [
              "         Complaint Type  ...     Location Type\n",
              "132     Illegal Parking  ...   Street/Sidewalk\n",
              "41   Noise - Commercial  ...  Store/Commercial\n",
              "234     Illegal Parking  ...   Street/Sidewalk\n",
              "546             Vending  ...   Street/Sidewalk\n",
              "596             Vending  ...   Street/Sidewalk\n",
              "\n",
              "[5 rows x 4 columns]"
            ]
          },
          "metadata": {
            "tags": []
          },
          "execution_count": 19
        }
      ]
    },
    {
      "cell_type": "code",
      "metadata": {
        "id": "Ei21CFnvVOXB"
      },
      "source": [
        "req['Request_Closing_Time']=req['Request_Closing_Time'].astype('timedelta64[h]')"
      ],
      "execution_count": 20,
      "outputs": []
    },
    {
      "cell_type": "code",
      "metadata": {
        "colab": {
          "base_uri": "https://localhost:8080/",
          "height": 526
        },
        "id": "kA0RFVqIVQ2W",
        "outputId": "ca701c7f-64b1-42ec-cf95-fb726d2e0eae"
      },
      "source": [
        "req.head()"
      ],
      "execution_count": 21,
      "outputs": [
        {
          "output_type": "execute_result",
          "data": {
            "text/html": [
              "<div>\n",
              "<style scoped>\n",
              "    .dataframe tbody tr th:only-of-type {\n",
              "        vertical-align: middle;\n",
              "    }\n",
              "\n",
              "    .dataframe tbody tr th {\n",
              "        vertical-align: top;\n",
              "    }\n",
              "\n",
              "    .dataframe thead th {\n",
              "        text-align: right;\n",
              "    }\n",
              "</style>\n",
              "<table border=\"1\" class=\"dataframe\">\n",
              "  <thead>\n",
              "    <tr style=\"text-align: right;\">\n",
              "      <th></th>\n",
              "      <th>Created Date</th>\n",
              "      <th>Closed Date</th>\n",
              "      <th>Complaint Type</th>\n",
              "      <th>Descriptor</th>\n",
              "      <th>Location Type</th>\n",
              "      <th>City</th>\n",
              "      <th>Due Date</th>\n",
              "      <th>Resolution Action Updated Date</th>\n",
              "      <th>Community Board</th>\n",
              "      <th>Borough</th>\n",
              "      <th>Location</th>\n",
              "      <th>Request_Closing_Time</th>\n",
              "    </tr>\n",
              "  </thead>\n",
              "  <tbody>\n",
              "    <tr>\n",
              "      <th>0</th>\n",
              "      <td>2015-12-31 23:59:45</td>\n",
              "      <td>2016-01-01 00:55:00</td>\n",
              "      <td>Noise - Street/Sidewalk</td>\n",
              "      <td>Loud Music/Party</td>\n",
              "      <td>Street/Sidewalk</td>\n",
              "      <td>NEW YORK</td>\n",
              "      <td>01-01-16 7:59</td>\n",
              "      <td>01-01-16 0:55</td>\n",
              "      <td>12 MANHATTAN</td>\n",
              "      <td>MANHATTAN</td>\n",
              "      <td>(40.86568153633767, -73.92350095571744)</td>\n",
              "      <td>0.0</td>\n",
              "    </tr>\n",
              "    <tr>\n",
              "      <th>1</th>\n",
              "      <td>2015-12-31 23:59:44</td>\n",
              "      <td>2016-01-01 01:26:00</td>\n",
              "      <td>Blocked Driveway</td>\n",
              "      <td>No Access</td>\n",
              "      <td>Street/Sidewalk</td>\n",
              "      <td>ASTORIA</td>\n",
              "      <td>01-01-16 7:59</td>\n",
              "      <td>01-01-16 1:26</td>\n",
              "      <td>01 QUEENS</td>\n",
              "      <td>QUEENS</td>\n",
              "      <td>(40.775945312321085, -73.91509393898605)</td>\n",
              "      <td>1.0</td>\n",
              "    </tr>\n",
              "    <tr>\n",
              "      <th>2</th>\n",
              "      <td>2015-12-31 23:59:29</td>\n",
              "      <td>2016-01-01 04:51:00</td>\n",
              "      <td>Blocked Driveway</td>\n",
              "      <td>No Access</td>\n",
              "      <td>Street/Sidewalk</td>\n",
              "      <td>BRONX</td>\n",
              "      <td>01-01-16 7:59</td>\n",
              "      <td>01-01-16 4:51</td>\n",
              "      <td>07 BRONX</td>\n",
              "      <td>BRONX</td>\n",
              "      <td>(40.870324522111424, -73.88852464418646)</td>\n",
              "      <td>4.0</td>\n",
              "    </tr>\n",
              "    <tr>\n",
              "      <th>3</th>\n",
              "      <td>2015-12-31 23:57:46</td>\n",
              "      <td>2016-01-01 07:43:00</td>\n",
              "      <td>Illegal Parking</td>\n",
              "      <td>Commercial Overnight Parking</td>\n",
              "      <td>Street/Sidewalk</td>\n",
              "      <td>BRONX</td>\n",
              "      <td>01-01-16 7:57</td>\n",
              "      <td>01-01-16 7:43</td>\n",
              "      <td>10 BRONX</td>\n",
              "      <td>BRONX</td>\n",
              "      <td>(40.83599404683083, -73.82837939584206)</td>\n",
              "      <td>7.0</td>\n",
              "    </tr>\n",
              "    <tr>\n",
              "      <th>4</th>\n",
              "      <td>2015-12-31 23:56:58</td>\n",
              "      <td>2016-01-01 03:24:00</td>\n",
              "      <td>Illegal Parking</td>\n",
              "      <td>Blocked Sidewalk</td>\n",
              "      <td>Street/Sidewalk</td>\n",
              "      <td>ELMHURST</td>\n",
              "      <td>01-01-16 7:56</td>\n",
              "      <td>01-01-16 3:24</td>\n",
              "      <td>04 QUEENS</td>\n",
              "      <td>QUEENS</td>\n",
              "      <td>(40.733059618956815, -73.87416975810375)</td>\n",
              "      <td>3.0</td>\n",
              "    </tr>\n",
              "  </tbody>\n",
              "</table>\n",
              "</div>"
            ],
            "text/plain": [
              "         Created Date  ... Request_Closing_Time\n",
              "0 2015-12-31 23:59:45  ...                  0.0\n",
              "1 2015-12-31 23:59:44  ...                  1.0\n",
              "2 2015-12-31 23:59:29  ...                  4.0\n",
              "3 2015-12-31 23:57:46  ...                  7.0\n",
              "4 2015-12-31 23:56:58  ...                  3.0\n",
              "\n",
              "[5 rows x 12 columns]"
            ]
          },
          "metadata": {
            "tags": []
          },
          "execution_count": 21
        }
      ]
    },
    {
      "cell_type": "code",
      "metadata": {
        "colab": {
          "base_uri": "https://localhost:8080/"
        },
        "id": "0gD6o-D2VS2U",
        "outputId": "d9c3e4bc-f637-4d59-e748-51401910de28"
      },
      "source": [
        "\n",
        "req.shape"
      ],
      "execution_count": 22,
      "outputs": [
        {
          "output_type": "execute_result",
          "data": {
            "text/plain": [
              "(1622, 12)"
            ]
          },
          "metadata": {
            "tags": []
          },
          "execution_count": 22
        }
      ]
    },
    {
      "cell_type": "code",
      "metadata": {
        "colab": {
          "base_uri": "https://localhost:8080/"
        },
        "id": "wkt9SBnTVU3o",
        "outputId": "cdd271c6-e482-42a9-f81e-25b6285233d1"
      },
      "source": [
        "req.info()"
      ],
      "execution_count": 23,
      "outputs": [
        {
          "output_type": "stream",
          "text": [
            "<class 'pandas.core.frame.DataFrame'>\n",
            "Int64Index: 1622 entries, 0 to 1665\n",
            "Data columns (total 12 columns):\n",
            " #   Column                          Non-Null Count  Dtype         \n",
            "---  ------                          --------------  -----         \n",
            " 0   Created Date                    1622 non-null   datetime64[ns]\n",
            " 1   Closed Date                     1622 non-null   datetime64[ns]\n",
            " 2   Complaint Type                  1622 non-null   object        \n",
            " 3   Descriptor                      1622 non-null   object        \n",
            " 4   Location Type                   1622 non-null   object        \n",
            " 5   City                            1622 non-null   object        \n",
            " 6   Due Date                        1622 non-null   object        \n",
            " 7   Resolution Action Updated Date  1622 non-null   object        \n",
            " 8   Community Board                 1622 non-null   object        \n",
            " 9   Borough                         1622 non-null   object        \n",
            " 10  Location                        1622 non-null   object        \n",
            " 11  Request_Closing_Time            1622 non-null   float64       \n",
            "dtypes: datetime64[ns](2), float64(1), object(9)\n",
            "memory usage: 164.7+ KB\n"
          ],
          "name": "stdout"
        }
      ]
    },
    {
      "cell_type": "code",
      "metadata": {
        "colab": {
          "base_uri": "https://localhost:8080/"
        },
        "id": "LhImzVS-VXO9",
        "outputId": "706f38e3-430a-4e9d-dc24-e055570e848e"
      },
      "source": [
        "req['Complaint Type'].unique()"
      ],
      "execution_count": 24,
      "outputs": [
        {
          "output_type": "execute_result",
          "data": {
            "text/plain": [
              "array(['Noise - Street/Sidewalk', 'Blocked Driveway', 'Illegal Parking',\n",
              "       'Derelict Vehicle', 'Noise - Commercial',\n",
              "       'Noise - House of Worship', 'Posting Advertisement',\n",
              "       'Noise - Vehicle', 'Animal Abuse', 'Vending', 'Traffic',\n",
              "       'Drinking', 'Noise - Park'], dtype=object)"
            ]
          },
          "metadata": {
            "tags": []
          },
          "execution_count": 24
        }
      ]
    },
    {
      "cell_type": "code",
      "metadata": {
        "colab": {
          "base_uri": "https://localhost:8080/"
        },
        "id": "nMqJqfuzVZV8",
        "outputId": "8d3281c8-f129-4c33-8124-897907944384"
      },
      "source": [
        "\n",
        "a=req['Complaint Type'].value_counts()  \n",
        "a"
      ],
      "execution_count": 25,
      "outputs": [
        {
          "output_type": "execute_result",
          "data": {
            "text/plain": [
              "Blocked Driveway            571\n",
              "Illegal Parking             453\n",
              "Noise - Commercial          188\n",
              "Derelict Vehicle            114\n",
              "Noise - Street/Sidewalk     103\n",
              "Vending                      61\n",
              "Animal Abuse                 45\n",
              "Noise - Vehicle              41\n",
              "Traffic                      23\n",
              "Posting Advertisement        10\n",
              "Drinking                      7\n",
              "Noise - House of Worship      3\n",
              "Noise - Park                  3\n",
              "Name: Complaint Type, dtype: int64"
            ]
          },
          "metadata": {
            "tags": []
          },
          "execution_count": 25
        }
      ]
    },
    {
      "cell_type": "code",
      "metadata": {
        "colab": {
          "base_uri": "https://localhost:8080/",
          "height": 700
        },
        "id": "Bb2mIEa-VbZu",
        "outputId": "8d6b9cbd-da01-4465-c178-efc950f0453c"
      },
      "source": [
        "a.plot.pie(figsize=(12,12))"
      ],
      "execution_count": 26,
      "outputs": [
        {
          "output_type": "execute_result",
          "data": {
            "text/plain": [
              "<matplotlib.axes._subplots.AxesSubplot at 0x7fa6f9c7f7d0>"
            ]
          },
          "metadata": {
            "tags": []
          },
          "execution_count": 26
        },
        {
          "output_type": "display_data",
          "data": {
            "image/png": "[encoded data removed]",
            "text/plain": [
              "<Figure size 864x864 with 1 Axes>"
            ]
          },
          "metadata": {
            "tags": []
          }
        }
      ]
    },
    {
      "cell_type": "code",
      "metadata": {
        "colab": {
          "base_uri": "https://localhost:8080/"
        },
        "id": "GyweXGI3VfiA",
        "outputId": "4ba2773b-4386-45fb-b6d4-2aac9a89a812"
      },
      "source": [
        "b=req['City'].value_counts()\n",
        "b"
      ],
      "execution_count": 27,
      "outputs": [
        {
          "output_type": "execute_result",
          "data": {
            "text/plain": [
              "BROOKLYN               540\n",
              "NEW YORK               306\n",
              "BRONX                  230\n",
              "STATEN ISLAND           76\n",
              "RIDGEWOOD               41\n",
              "JAMAICA                 41\n",
              "ASTORIA                 36\n",
              "FLUSHING                29\n",
              "CORONA                  29\n",
              "ELMHURST                26\n",
              "WOODSIDE                22\n",
              "OZONE PARK              18\n",
              "SOUTH OZONE PARK        17\n",
              "WOODHAVEN               17\n",
              "RICHMOND HILL           15\n",
              "MASPETH                 15\n",
              "FOREST HILLS            15\n",
              "QUEENS VILLAGE          14\n",
              "MIDDLE VILLAGE          14\n",
              "SOUTH RICHMOND HILL     13\n",
              "EAST ELMHURST           11\n",
              "JACKSON HEIGHTS         10\n",
              "HOWARD BEACH            10\n",
              "SAINT ALBANS             9\n",
              "FRESH MEADOWS            9\n",
              "BAYSIDE                  7\n",
              "KEW GARDENS              7\n",
              "LONG ISLAND CITY         6\n",
              "HOLLIS                   6\n",
              "REGO PARK                5\n",
              "COLLEGE POINT            4\n",
              "ROSEDALE                 4\n",
              "FAR ROCKAWAY             4\n",
              "SPRINGFIELD GARDENS      4\n",
              "LITTLE NECK              3\n",
              "OAKLAND GARDENS          2\n",
              "ROCKAWAY PARK            2\n",
              "SUNNYSIDE                2\n",
              "GLEN OAKS                1\n",
              "BELLEROSE                1\n",
              "CAMBRIA HEIGHTS          1\n",
              "Name: City, dtype: int64"
            ]
          },
          "metadata": {
            "tags": []
          },
          "execution_count": 27
        }
      ]
    },
    {
      "cell_type": "code",
      "metadata": {
        "colab": {
          "base_uri": "https://localhost:8080/",
          "height": 700
        },
        "id": "F5l-bKZHVkBE",
        "outputId": "11c47c50-11c8-4563-a819-75335c4227d6"
      },
      "source": [
        "b.plot.pie(figsize=(12,12))"
      ],
      "execution_count": 28,
      "outputs": [
        {
          "output_type": "execute_result",
          "data": {
            "text/plain": [
              "<matplotlib.axes._subplots.AxesSubplot at 0x7fa6f4f38fd0>"
            ]
          },
          "metadata": {
            "tags": []
          },
          "execution_count": 28
        },
        {
          "output_type": "display_data",
          "data": {
            "image/png": "[encoded data removed]",
            "text/plain": [
              "<Figure size 864x864 with 1 Axes>"
            ]
          },
          "metadata": {
            "tags": []
          }
        }
      ]
    },
    {
      "cell_type": "code",
      "metadata": {
        "colab": {
          "base_uri": "https://localhost:8080/"
        },
        "id": "BUgPl4o-VoaZ",
        "outputId": "2cbd8472-21d7-4e7f-8419-0eb674d44eac"
      },
      "source": [
        "c=req['Location Type'].value_counts()\n",
        "c"
      ],
      "execution_count": 29,
      "outputs": [
        {
          "output_type": "execute_result",
          "data": {
            "text/plain": [
              "Street/Sidewalk               1375\n",
              "Store/Commercial               134\n",
              "Club/Bar/Restaurant             68\n",
              "Residential Building/House      31\n",
              "Residential Building             4\n",
              "House of Worship                 3\n",
              "Park/Playground                  3\n",
              "Vacant Lot                       2\n",
              "House and Store                  2\n",
              "Name: Location Type, dtype: int64"
            ]
          },
          "metadata": {
            "tags": []
          },
          "execution_count": 29
        }
      ]
    },
    {
      "cell_type": "code",
      "metadata": {
        "colab": {
          "base_uri": "https://localhost:8080/",
          "height": 592
        },
        "id": "F0grSDF3Vre2",
        "outputId": "c044b7a2-1cac-4111-f54a-8541b75d593e"
      },
      "source": [
        "c.plot.pie(figsize=(10,10))"
      ],
      "execution_count": 30,
      "outputs": [
        {
          "output_type": "execute_result",
          "data": {
            "text/plain": [
              "<matplotlib.axes._subplots.AxesSubplot at 0x7fa6f359a150>"
            ]
          },
          "metadata": {
            "tags": []
          },
          "execution_count": 30
        },
        {
          "output_type": "display_data",
          "data": {
            "image/png": "[encoded data removed]",
            "text/plain": [
              "<Figure size 720x720 with 1 Axes>"
            ]
          },
          "metadata": {
            "tags": []
          }
        }
      ]
    },
    {
      "cell_type": "code",
      "metadata": {
        "colab": {
          "base_uri": "https://localhost:8080/"
        },
        "id": "r6-1fIINVtz6",
        "outputId": "6eff4c35-9b60-457e-ef64-c369ba7a1dba"
      },
      "source": [
        "dp=req['Descriptor'].value_counts()\n",
        "dp"
      ],
      "execution_count": 31,
      "outputs": [
        {
          "output_type": "execute_result",
          "data": {
            "text/plain": [
              "No Access                         430\n",
              "Loud Music/Party                  198\n",
              "Partial Access                    141\n",
              "Posted Parking Sign Violation     137\n",
              "With License Plate                114\n",
              "Blocked Hydrant                   105\n",
              "Blocked Sidewalk                   71\n",
              "Loud Talking                       66\n",
              "Commercial Overnight Parking       51\n",
              "In Prohibited Area                 51\n",
              "Double Parked Blocking Vehicle     40\n",
              "Double Parked Blocking Traffic     31\n",
              "Banging/Pounding                   23\n",
              "Car/Truck Music                    18\n",
              "Engine Idling                      17\n",
              "Neglected                          16\n",
              "Car/Truck Horn                     15\n",
              "Congestion/Gridlock                14\n",
              "Other (complaint details)          14\n",
              "Unlicensed                         10\n",
              "Vehicle                            10\n",
              "Overnight Commercial Storage       10\n",
              "Truck Route Violation               8\n",
              "Unauthorized Bus Layover            7\n",
              "Tortured                            7\n",
              "No Shelter                          6\n",
              "After Hours - Licensed Est          3\n",
              "Chained                             2\n",
              "Underage - Licensed Est             2\n",
              "In Public                           2\n",
              "Detached Trailer                    1\n",
              "Loud Television                     1\n",
              "Chronic Stoplight Violation         1\n",
              "Name: Descriptor, dtype: int64"
            ]
          },
          "metadata": {
            "tags": []
          },
          "execution_count": 31
        }
      ]
    },
    {
      "cell_type": "code",
      "metadata": {
        "colab": {
          "base_uri": "https://localhost:8080/",
          "height": 592
        },
        "id": "qlBedpVcVwCQ",
        "outputId": "4f27d4ee-a9df-470d-9cb2-a10e2844d338"
      },
      "source": [
        "dp.plot.pie(figsize=(10,10))  "
      ],
      "execution_count": 32,
      "outputs": [
        {
          "output_type": "execute_result",
          "data": {
            "text/plain": [
              "<matplotlib.axes._subplots.AxesSubplot at 0x7fa6f3581750>"
            ]
          },
          "metadata": {
            "tags": []
          },
          "execution_count": 32
        },
        {
          "output_type": "display_data",
          "data": {
            "image/png": "[encoded data removed]",
            "text/plain": [
              "<Figure size 720x720 with 1 Axes>"
            ]
          },
          "metadata": {
            "tags": []
          }
        }
      ]
    },
    {
      "cell_type": "code",
      "metadata": {
        "colab": {
          "base_uri": "https://localhost:8080/",
          "height": 445
        },
        "id": "UOtN151BVyQS",
        "outputId": "5c13e89b-5d94-4ab7-9a25-9d5191c9d7b2"
      },
      "source": [
        "import seaborn as sns\n",
        "import matplotlib.pyplot as plt\n",
        "plt.figure(figsize=(18,12))\n",
        "plt.subplot(221)\n",
        "plt.title('Count of cases handled by Community board')\n",
        "sns.countplot(req['Borough'])"
      ],
      "execution_count": 33,
      "outputs": [
        {
          "output_type": "stream",
          "text": [
            "/usr/local/lib/python3.7/dist-packages/seaborn/_decorators.py:43: FutureWarning: Pass the following variable as a keyword arg: x. From version 0.12, the only valid positional argument will be `data`, and passing other arguments without an explicit keyword will result in an error or misinterpretation.\n",
            "  FutureWarning\n"
          ],
          "name": "stderr"
        },
        {
          "output_type": "execute_result",
          "data": {
            "text/plain": [
              "<matplotlib.axes._subplots.AxesSubplot at 0x7fa6f345b390>"
            ]
          },
          "metadata": {
            "tags": []
          },
          "execution_count": 33
        },
        {
          "output_type": "display_data",
          "data": {
            "image/png": "[encoded data removed]",
            "text/plain": [
              "<Figure size 1296x864 with 1 Axes>"
            ]
          },
          "metadata": {
            "tags": [],
            "needs_background": "light"
          }
        }
      ]
    },
    {
      "cell_type": "code",
      "metadata": {
        "colab": {
          "base_uri": "https://localhost:8080/",
          "height": 554
        },
        "id": "WEX7oq1KV0UK",
        "outputId": "92c78ff0-bf08-4724-bbb8-0c3c9168ff85"
      },
      "source": [
        "plt.figure(figsize=(30,14))                                                                \n",
        "sns.lineplot(x = req['Complaint Type'], y = req['Request_Closing_Time'])"
      ],
      "execution_count": 34,
      "outputs": [
        {
          "output_type": "execute_result",
          "data": {
            "text/plain": [
              "<matplotlib.axes._subplots.AxesSubplot at 0x7fa6f2b9c710>"
            ]
          },
          "metadata": {
            "tags": []
          },
          "execution_count": 34
        },
        {
          "output_type": "display_data",
          "data": {
            "image/png": "[encoded data removed]",
            "text/plain": [
              "<Figure size 2160x1008 with 1 Axes>"
            ]
          },
          "metadata": {
            "tags": [],
            "needs_background": "light"
          }
        }
      ]
    },
    {
      "cell_type": "code",
      "metadata": {
        "colab": {
          "base_uri": "https://localhost:8080/",
          "height": 840
        },
        "id": "xsOzoPMaV24o",
        "outputId": "050087d4-efcf-46ff-8ded-62866f0b8d1c"
      },
      "source": [
        "plt.figure(figsize=(14,14))                                                                \n",
        "sns.lineplot(x = req['Borough'], y = req['Request_Closing_Time'])"
      ],
      "execution_count": 35,
      "outputs": [
        {
          "output_type": "execute_result",
          "data": {
            "text/plain": [
              "<matplotlib.axes._subplots.AxesSubplot at 0x7fa6f2b33f10>"
            ]
          },
          "metadata": {
            "tags": []
          },
          "execution_count": 35
        },
        {
          "output_type": "display_data",
          "data": {
            "image/png": "[encoded data removed]",
            "text/plain": [
              "<Figure size 1008x1008 with 1 Axes>"
            ]
          },
          "metadata": {
            "tags": [],
            "needs_background": "light"
          }
        }
      ]
    },
    {
      "cell_type": "code",
      "metadata": {
        "colab": {
          "base_uri": "https://localhost:8080/",
          "height": 417
        },
        "id": "jcHYVhhGV5PH",
        "outputId": "3fbad20e-b311-497f-84b2-3387abe10e62"
      },
      "source": [
        "import seaborn as sns\n",
        "import matplotlib.pyplot as plt\n",
        "plt.figure(figsize=(50,14))\n",
        "sns.catplot(x=\"Complaint Type\", y=\"Request_Closing_Time\", kind=\"box\", data=req)"
      ],
      "execution_count": 36,
      "outputs": [
        {
          "output_type": "execute_result",
          "data": {
            "text/plain": [
              "<seaborn.axisgrid.FacetGrid at 0x7fa6f2aa5f50>"
            ]
          },
          "metadata": {
            "tags": []
          },
          "execution_count": 36
        },
        {
          "output_type": "display_data",
          "data": {
            "text/plain": [
              "<Figure size 3600x1008 with 0 Axes>"
            ]
          },
          "metadata": {
            "tags": []
          }
        },
        {
          "output_type": "display_data",
          "data": {
            "image/png": "[encoded data removed]",
            "text/plain": [
              "<Figure size 360x360 with 1 Axes>"
            ]
          },
          "metadata": {
            "tags": [],
            "needs_background": "light"
          }
        }
      ]
    },
    {
      "cell_type": "code",
      "metadata": {
        "colab": {
          "base_uri": "https://localhost:8080/",
          "height": 417
        },
        "id": "Zme3bEQqV8S1",
        "outputId": "b785fd28-2f2f-4d13-ad65-e7dc78bdb07f"
      },
      "source": [
        "plt.figure(figsize=(14,14))\n",
        "sns.catplot(x=\"Complaint Type\", y=\"Request_Closing_Time\",  kind=\"bar\", data=req)"
      ],
      "execution_count": 37,
      "outputs": [
        {
          "output_type": "execute_result",
          "data": {
            "text/plain": [
              "<seaborn.axisgrid.FacetGrid at 0x7fa6ea1410d0>"
            ]
          },
          "metadata": {
            "tags": []
          },
          "execution_count": 37
        },
        {
          "output_type": "display_data",
          "data": {
            "text/plain": [
              "<Figure size 1008x1008 with 0 Axes>"
            ]
          },
          "metadata": {
            "tags": []
          }
        },
        {
          "output_type": "display_data",
          "data": {
            "image/png": "[encoded data removed]",
            "text/plain": [
              "<Figure size 360x360 with 1 Axes>"
            ]
          },
          "metadata": {
            "tags": [],
            "needs_background": "light"
          }
        }
      ]
    },
    {
      "cell_type": "code",
      "metadata": {
        "colab": {
          "base_uri": "https://localhost:8080/",
          "height": 840
        },
        "id": "cQA4AQEpV_lm",
        "outputId": "c4f9d3ef-2113-42ab-a03e-43e0f8d4ffc4"
      },
      "source": [
        "plt.figure(figsize=(14,14))                                                                \n",
        "sns.lineplot(x = req['City'], y = req['Request_Closing_Time'])"
      ],
      "execution_count": 38,
      "outputs": [
        {
          "output_type": "execute_result",
          "data": {
            "text/plain": [
              "<matplotlib.axes._subplots.AxesSubplot at 0x7fa6ea016350>"
            ]
          },
          "metadata": {
            "tags": []
          },
          "execution_count": 38
        },
        {
          "output_type": "display_data",
          "data": {
            "image/png": "[encoded data removed]",
            "text/plain": [
              "<Figure size 1008x1008 with 1 Axes>"
            ]
          },
          "metadata": {
            "tags": [],
            "needs_background": "light"
          }
        }
      ]
    },
    {
      "cell_type": "code",
      "metadata": {
        "colab": {
          "base_uri": "https://localhost:8080/",
          "height": 282
        },
        "id": "9ihI6cg3WClD",
        "outputId": "ba2bc956-0962-44ab-fe0c-1f245568cd88"
      },
      "source": [
        "c.plot.box()"
      ],
      "execution_count": 39,
      "outputs": [
        {
          "output_type": "execute_result",
          "data": {
            "text/plain": [
              "<matplotlib.axes._subplots.AxesSubplot at 0x7fa6e9f70450>"
            ]
          },
          "metadata": {
            "tags": []
          },
          "execution_count": 39
        },
        {
          "output_type": "display_data",
          "data": {
            "image/png": "[encoded data removed]",
            "text/plain": [
              "<Figure size 432x288 with 1 Axes>"
            ]
          },
          "metadata": {
            "tags": [],
            "needs_background": "light"
          }
        }
      ]
    },
    {
      "cell_type": "code",
      "metadata": {
        "colab": {
          "base_uri": "https://localhost:8080/",
          "height": 417
        },
        "id": "Y4BonzWAWFBo",
        "outputId": "864545a4-1c36-4196-f0c8-7fff950e385c"
      },
      "source": [
        "\n",
        "r=pd.DataFrame(req['Complaint Type'])\n",
        "u=pd.DataFrame(req['Request_Closing_Time'])\n",
        "v=pd.concat((r,u),axis=1)\n",
        "v"
      ],
      "execution_count": 40,
      "outputs": [
        {
          "output_type": "execute_result",
          "data": {
            "text/html": [
              "<div>\n",
              "<style scoped>\n",
              "    .dataframe tbody tr th:only-of-type {\n",
              "        vertical-align: middle;\n",
              "    }\n",
              "\n",
              "    .dataframe tbody tr th {\n",
              "        vertical-align: top;\n",
              "    }\n",
              "\n",
              "    .dataframe thead th {\n",
              "        text-align: right;\n",
              "    }\n",
              "</style>\n",
              "<table border=\"1\" class=\"dataframe\">\n",
              "  <thead>\n",
              "    <tr style=\"text-align: right;\">\n",
              "      <th></th>\n",
              "      <th>Complaint Type</th>\n",
              "      <th>Request_Closing_Time</th>\n",
              "    </tr>\n",
              "  </thead>\n",
              "  <tbody>\n",
              "    <tr>\n",
              "      <th>0</th>\n",
              "      <td>Noise - Street/Sidewalk</td>\n",
              "      <td>0.0</td>\n",
              "    </tr>\n",
              "    <tr>\n",
              "      <th>1</th>\n",
              "      <td>Blocked Driveway</td>\n",
              "      <td>1.0</td>\n",
              "    </tr>\n",
              "    <tr>\n",
              "      <th>2</th>\n",
              "      <td>Blocked Driveway</td>\n",
              "      <td>4.0</td>\n",
              "    </tr>\n",
              "    <tr>\n",
              "      <th>3</th>\n",
              "      <td>Illegal Parking</td>\n",
              "      <td>7.0</td>\n",
              "    </tr>\n",
              "    <tr>\n",
              "      <th>4</th>\n",
              "      <td>Illegal Parking</td>\n",
              "      <td>3.0</td>\n",
              "    </tr>\n",
              "    <tr>\n",
              "      <th>...</th>\n",
              "      <td>...</td>\n",
              "      <td>...</td>\n",
              "    </tr>\n",
              "    <tr>\n",
              "      <th>1661</th>\n",
              "      <td>Blocked Driveway</td>\n",
              "      <td>11.0</td>\n",
              "    </tr>\n",
              "    <tr>\n",
              "      <th>1662</th>\n",
              "      <td>Noise - Street/Sidewalk</td>\n",
              "      <td>37.0</td>\n",
              "    </tr>\n",
              "    <tr>\n",
              "      <th>1663</th>\n",
              "      <td>Noise - Commercial</td>\n",
              "      <td>2.0</td>\n",
              "    </tr>\n",
              "    <tr>\n",
              "      <th>1664</th>\n",
              "      <td>Noise - Street/Sidewalk</td>\n",
              "      <td>0.0</td>\n",
              "    </tr>\n",
              "    <tr>\n",
              "      <th>1665</th>\n",
              "      <td>Noise - Commercial</td>\n",
              "      <td>1.0</td>\n",
              "    </tr>\n",
              "  </tbody>\n",
              "</table>\n",
              "<p>1622 rows × 2 columns</p>\n",
              "</div>"
            ],
            "text/plain": [
              "               Complaint Type  Request_Closing_Time\n",
              "0     Noise - Street/Sidewalk                   0.0\n",
              "1            Blocked Driveway                   1.0\n",
              "2            Blocked Driveway                   4.0\n",
              "3             Illegal Parking                   7.0\n",
              "4             Illegal Parking                   3.0\n",
              "...                       ...                   ...\n",
              "1661         Blocked Driveway                  11.0\n",
              "1662  Noise - Street/Sidewalk                  37.0\n",
              "1663       Noise - Commercial                   2.0\n",
              "1664  Noise - Street/Sidewalk                   0.0\n",
              "1665       Noise - Commercial                   1.0\n",
              "\n",
              "[1622 rows x 2 columns]"
            ]
          },
          "metadata": {
            "tags": []
          },
          "execution_count": 40
        }
      ]
    },
    {
      "cell_type": "code",
      "metadata": {
        "colab": {
          "base_uri": "https://localhost:8080/",
          "height": 549
        },
        "id": "sFhjgvZjWHNn",
        "outputId": "5adc1552-96e4-42e8-a6d4-0439d0b806a5"
      },
      "source": [
        "\n",
        "v.plot.box()"
      ],
      "execution_count": 41,
      "outputs": [
        {
          "output_type": "execute_result",
          "data": {
            "text/plain": [
              "<matplotlib.axes._subplots.AxesSubplot at 0x7fa6ea04da10>"
            ]
          },
          "metadata": {
            "tags": []
          },
          "execution_count": 41
        },
        {
          "output_type": "display_data",
          "data": {
            "image/png": "[encoded data removed]",
            "text/plain": [
              "<Figure size 432x288 with 1 Axes>"
            ]
          },
          "metadata": {
            "tags": [],
            "needs_background": "light"
          }
        },
        {
          "output_type": "execute_result",
          "data": {
            "text/plain": [
              "<matplotlib.axes._subplots.AxesSubplot at 0x7fa6e9ea27d0>"
            ]
          },
          "metadata": {
            "tags": []
          },
          "execution_count": 42
        },
        {
          "output_type": "display_data",
          "data": {
            "image/png": "[encoded data removed]",
            "text/plain": [
              "<Figure size 432x288 with 1 Axes>"
            ]
          },
          "metadata": {
            "tags": [],
            "needs_background": "light"
          }
        }
      ]
    },
    {
      "cell_type": "code",
      "metadata": {
        "colab": {
          "base_uri": "https://localhost:8080/",
          "height": 417
        },
        "id": "5RqtjUTjWJDL",
        "outputId": "3cba4fa3-9f43-491f-fbe9-71f44628e9dc"
      },
      "source": [
        "j=pd.DataFrame(req['Complaint Type'])\n",
        "k=pd.DataFrame(req['Descriptor'])\n",
        "l=pd.concat((j,k),axis=1)\n",
        "l"
      ],
      "execution_count": 43,
      "outputs": [
        {
          "output_type": "execute_result",
          "data": {
            "text/html": [
              "<div>\n",
              "<style scoped>\n",
              "    .dataframe tbody tr th:only-of-type {\n",
              "        vertical-align: middle;\n",
              "    }\n",
              "\n",
              "    .dataframe tbody tr th {\n",
              "        vertical-align: top;\n",
              "    }\n",
              "\n",
              "    .dataframe thead th {\n",
              "        text-align: right;\n",
              "    }\n",
              "</style>\n",
              "<table border=\"1\" class=\"dataframe\">\n",
              "  <thead>\n",
              "    <tr style=\"text-align: right;\">\n",
              "      <th></th>\n",
              "      <th>Complaint Type</th>\n",
              "      <th>Descriptor</th>\n",
              "    </tr>\n",
              "  </thead>\n",
              "  <tbody>\n",
              "    <tr>\n",
              "      <th>0</th>\n",
              "      <td>Noise - Street/Sidewalk</td>\n",
              "      <td>Loud Music/Party</td>\n",
              "    </tr>\n",
              "    <tr>\n",
              "      <th>1</th>\n",
              "      <td>Blocked Driveway</td>\n",
              "      <td>No Access</td>\n",
              "    </tr>\n",
              "    <tr>\n",
              "      <th>2</th>\n",
              "      <td>Blocked Driveway</td>\n",
              "      <td>No Access</td>\n",
              "    </tr>\n",
              "    <tr>\n",
              "      <th>3</th>\n",
              "      <td>Illegal Parking</td>\n",
              "      <td>Commercial Overnight Parking</td>\n",
              "    </tr>\n",
              "    <tr>\n",
              "      <th>4</th>\n",
              "      <td>Illegal Parking</td>\n",
              "      <td>Blocked Sidewalk</td>\n",
              "    </tr>\n",
              "    <tr>\n",
              "      <th>...</th>\n",
              "      <td>...</td>\n",
              "      <td>...</td>\n",
              "    </tr>\n",
              "    <tr>\n",
              "      <th>1661</th>\n",
              "      <td>Blocked Driveway</td>\n",
              "      <td>No Access</td>\n",
              "    </tr>\n",
              "    <tr>\n",
              "      <th>1662</th>\n",
              "      <td>Noise - Street/Sidewalk</td>\n",
              "      <td>Loud Music/Party</td>\n",
              "    </tr>\n",
              "    <tr>\n",
              "      <th>1663</th>\n",
              "      <td>Noise - Commercial</td>\n",
              "      <td>Loud Music/Party</td>\n",
              "    </tr>\n",
              "    <tr>\n",
              "      <th>1664</th>\n",
              "      <td>Noise - Street/Sidewalk</td>\n",
              "      <td>Loud Talking</td>\n",
              "    </tr>\n",
              "    <tr>\n",
              "      <th>1665</th>\n",
              "      <td>Noise - Commercial</td>\n",
              "      <td>Loud Talking</td>\n",
              "    </tr>\n",
              "  </tbody>\n",
              "</table>\n",
              "<p>1622 rows × 2 columns</p>\n",
              "</div>"
            ],
            "text/plain": [
              "               Complaint Type                    Descriptor\n",
              "0     Noise - Street/Sidewalk              Loud Music/Party\n",
              "1            Blocked Driveway                     No Access\n",
              "2            Blocked Driveway                     No Access\n",
              "3             Illegal Parking  Commercial Overnight Parking\n",
              "4             Illegal Parking              Blocked Sidewalk\n",
              "...                       ...                           ...\n",
              "1661         Blocked Driveway                     No Access\n",
              "1662  Noise - Street/Sidewalk              Loud Music/Party\n",
              "1663       Noise - Commercial              Loud Music/Party\n",
              "1664  Noise - Street/Sidewalk                  Loud Talking\n",
              "1665       Noise - Commercial                  Loud Talking\n",
              "\n",
              "[1622 rows x 2 columns]"
            ]
          },
          "metadata": {
            "tags": []
          },
          "execution_count": 43
        }
      ]
    },
    {
      "cell_type": "code",
      "metadata": {
        "colab": {
          "base_uri": "https://localhost:8080/",
          "height": 1000
        },
        "id": "52x2VoI0WLNE",
        "outputId": "4d727502-91d0-4eae-99c5-a7162818676f"
      },
      "source": [
        "rep_table=l.groupby(['Complaint Type','Descriptor'])\n",
        "print(\"\\\\Descriptors of particular Complaint Type\\\\\")\n",
        "rep_table.first()"
      ],
      "execution_count": 44,
      "outputs": [
        {
          "output_type": "stream",
          "text": [
            "\\Descriptors of particular Complaint Type\\\n"
          ],
          "name": "stdout"
        },
        {
          "output_type": "execute_result",
          "data": {
            "text/html": [
              "<div>\n",
              "<style scoped>\n",
              "    .dataframe tbody tr th:only-of-type {\n",
              "        vertical-align: middle;\n",
              "    }\n",
              "\n",
              "    .dataframe tbody tr th {\n",
              "        vertical-align: top;\n",
              "    }\n",
              "\n",
              "    .dataframe thead th {\n",
              "        text-align: right;\n",
              "    }\n",
              "</style>\n",
              "<table border=\"1\" class=\"dataframe\">\n",
              "  <thead>\n",
              "    <tr style=\"text-align: right;\">\n",
              "      <th></th>\n",
              "      <th></th>\n",
              "    </tr>\n",
              "    <tr>\n",
              "      <th>Complaint Type</th>\n",
              "      <th>Descriptor</th>\n",
              "    </tr>\n",
              "  </thead>\n",
              "  <tbody>\n",
              "    <tr>\n",
              "      <th rowspan=\"5\" valign=\"top\">Animal Abuse</th>\n",
              "      <th>Chained</th>\n",
              "    </tr>\n",
              "    <tr>\n",
              "      <th>Neglected</th>\n",
              "    </tr>\n",
              "    <tr>\n",
              "      <th>No Shelter</th>\n",
              "    </tr>\n",
              "    <tr>\n",
              "      <th>Other (complaint details)</th>\n",
              "    </tr>\n",
              "    <tr>\n",
              "      <th>Tortured</th>\n",
              "    </tr>\n",
              "    <tr>\n",
              "      <th rowspan=\"2\" valign=\"top\">Blocked Driveway</th>\n",
              "      <th>No Access</th>\n",
              "    </tr>\n",
              "    <tr>\n",
              "      <th>Partial Access</th>\n",
              "    </tr>\n",
              "    <tr>\n",
              "      <th>Derelict Vehicle</th>\n",
              "      <th>With License Plate</th>\n",
              "    </tr>\n",
              "    <tr>\n",
              "      <th rowspan=\"3\" valign=\"top\">Drinking</th>\n",
              "      <th>After Hours - Licensed Est</th>\n",
              "    </tr>\n",
              "    <tr>\n",
              "      <th>In Public</th>\n",
              "    </tr>\n",
              "    <tr>\n",
              "      <th>Underage - Licensed Est</th>\n",
              "    </tr>\n",
              "    <tr>\n",
              "      <th rowspan=\"9\" valign=\"top\">Illegal Parking</th>\n",
              "      <th>Blocked Hydrant</th>\n",
              "    </tr>\n",
              "    <tr>\n",
              "      <th>Blocked Sidewalk</th>\n",
              "    </tr>\n",
              "    <tr>\n",
              "      <th>Commercial Overnight Parking</th>\n",
              "    </tr>\n",
              "    <tr>\n",
              "      <th>Detached Trailer</th>\n",
              "    </tr>\n",
              "    <tr>\n",
              "      <th>Double Parked Blocking Traffic</th>\n",
              "    </tr>\n",
              "    <tr>\n",
              "      <th>Double Parked Blocking Vehicle</th>\n",
              "    </tr>\n",
              "    <tr>\n",
              "      <th>Overnight Commercial Storage</th>\n",
              "    </tr>\n",
              "    <tr>\n",
              "      <th>Posted Parking Sign Violation</th>\n",
              "    </tr>\n",
              "    <tr>\n",
              "      <th>Unauthorized Bus Layover</th>\n",
              "    </tr>\n",
              "    <tr>\n",
              "      <th rowspan=\"6\" valign=\"top\">Noise - Commercial</th>\n",
              "      <th>Banging/Pounding</th>\n",
              "    </tr>\n",
              "    <tr>\n",
              "      <th>Car/Truck Horn</th>\n",
              "    </tr>\n",
              "    <tr>\n",
              "      <th>Car/Truck Music</th>\n",
              "    </tr>\n",
              "    <tr>\n",
              "      <th>Loud Music/Party</th>\n",
              "    </tr>\n",
              "    <tr>\n",
              "      <th>Loud Talking</th>\n",
              "    </tr>\n",
              "    <tr>\n",
              "      <th>Loud Television</th>\n",
              "    </tr>\n",
              "    <tr>\n",
              "      <th rowspan=\"2\" valign=\"top\">Noise - House of Worship</th>\n",
              "      <th>Banging/Pounding</th>\n",
              "    </tr>\n",
              "    <tr>\n",
              "      <th>Loud Music/Party</th>\n",
              "    </tr>\n",
              "    <tr>\n",
              "      <th>Noise - Park</th>\n",
              "      <th>Loud Music/Party</th>\n",
              "    </tr>\n",
              "    <tr>\n",
              "      <th rowspan=\"2\" valign=\"top\">Noise - Street/Sidewalk</th>\n",
              "      <th>Loud Music/Party</th>\n",
              "    </tr>\n",
              "    <tr>\n",
              "      <th>Loud Talking</th>\n",
              "    </tr>\n",
              "    <tr>\n",
              "      <th rowspan=\"3\" valign=\"top\">Noise - Vehicle</th>\n",
              "      <th>Car/Truck Horn</th>\n",
              "    </tr>\n",
              "    <tr>\n",
              "      <th>Car/Truck Music</th>\n",
              "    </tr>\n",
              "    <tr>\n",
              "      <th>Engine Idling</th>\n",
              "    </tr>\n",
              "    <tr>\n",
              "      <th>Posting Advertisement</th>\n",
              "      <th>Vehicle</th>\n",
              "    </tr>\n",
              "    <tr>\n",
              "      <th rowspan=\"3\" valign=\"top\">Traffic</th>\n",
              "      <th>Chronic Stoplight Violation</th>\n",
              "    </tr>\n",
              "    <tr>\n",
              "      <th>Congestion/Gridlock</th>\n",
              "    </tr>\n",
              "    <tr>\n",
              "      <th>Truck Route Violation</th>\n",
              "    </tr>\n",
              "    <tr>\n",
              "      <th rowspan=\"2\" valign=\"top\">Vending</th>\n",
              "      <th>In Prohibited Area</th>\n",
              "    </tr>\n",
              "    <tr>\n",
              "      <th>Unlicensed</th>\n",
              "    </tr>\n",
              "  </tbody>\n",
              "</table>\n",
              "</div>"
            ],
            "text/plain": [
              "Empty DataFrame\n",
              "Columns: []\n",
              "Index: [(Animal Abuse, Chained), (Animal Abuse, Neglected), (Animal Abuse, No Shelter), (Animal Abuse, Other (complaint details)), (Animal Abuse, Tortured), (Blocked Driveway, No Access), (Blocked Driveway, Partial Access), (Derelict Vehicle, With License Plate), (Drinking, After Hours - Licensed Est), (Drinking, In Public), (Drinking, Underage - Licensed Est), (Illegal Parking, Blocked Hydrant), (Illegal Parking, Blocked Sidewalk), (Illegal Parking, Commercial Overnight Parking), (Illegal Parking, Detached Trailer), (Illegal Parking, Double Parked Blocking Traffic), (Illegal Parking, Double Parked Blocking Vehicle), (Illegal Parking, Overnight Commercial Storage), (Illegal Parking, Posted Parking Sign Violation), (Illegal Parking, Unauthorized Bus Layover), (Noise - Commercial, Banging/Pounding), (Noise - Commercial, Car/Truck Horn), (Noise - Commercial, Car/Truck Music), (Noise - Commercial, Loud Music/Party), (Noise - Commercial, Loud Talking), (Noise - Commercial, Loud Television), (Noise - House of Worship, Banging/Pounding), (Noise - House of Worship, Loud Music/Party), (Noise - Park, Loud Music/Party), (Noise - Street/Sidewalk, Loud Music/Party), (Noise - Street/Sidewalk, Loud Talking), (Noise - Vehicle, Car/Truck Horn), (Noise - Vehicle, Car/Truck Music), (Noise - Vehicle, Engine Idling), (Posting Advertisement, Vehicle), (Traffic, Chronic Stoplight Violation), (Traffic, Congestion/Gridlock), (Traffic, Truck Route Violation), (Vending, In Prohibited Area), (Vending, Unlicensed)]"
            ]
          },
          "metadata": {
            "tags": []
          },
          "execution_count": 44
        }
      ]
    },
    {
      "cell_type": "code",
      "metadata": {
        "colab": {
          "base_uri": "https://localhost:8080/",
          "height": 417
        },
        "id": "Cr41h6tWWNH3",
        "outputId": "6ce0360c-c218-443b-d686-1378baa0f469"
      },
      "source": [
        "\n",
        "d=pd.DataFrame(req['Location'])\n",
        "d"
      ],
      "execution_count": 45,
      "outputs": [
        {
          "output_type": "execute_result",
          "data": {
            "text/html": [
              "<div>\n",
              "<style scoped>\n",
              "    .dataframe tbody tr th:only-of-type {\n",
              "        vertical-align: middle;\n",
              "    }\n",
              "\n",
              "    .dataframe tbody tr th {\n",
              "        vertical-align: top;\n",
              "    }\n",
              "\n",
              "    .dataframe thead th {\n",
              "        text-align: right;\n",
              "    }\n",
              "</style>\n",
              "<table border=\"1\" class=\"dataframe\">\n",
              "  <thead>\n",
              "    <tr style=\"text-align: right;\">\n",
              "      <th></th>\n",
              "      <th>Location</th>\n",
              "    </tr>\n",
              "  </thead>\n",
              "  <tbody>\n",
              "    <tr>\n",
              "      <th>0</th>\n",
              "      <td>(40.86568153633767, -73.92350095571744)</td>\n",
              "    </tr>\n",
              "    <tr>\n",
              "      <th>1</th>\n",
              "      <td>(40.775945312321085, -73.91509393898605)</td>\n",
              "    </tr>\n",
              "    <tr>\n",
              "      <th>2</th>\n",
              "      <td>(40.870324522111424, -73.88852464418646)</td>\n",
              "    </tr>\n",
              "    <tr>\n",
              "      <th>3</th>\n",
              "      <td>(40.83599404683083, -73.82837939584206)</td>\n",
              "    </tr>\n",
              "    <tr>\n",
              "      <th>4</th>\n",
              "      <td>(40.733059618956815, -73.87416975810375)</td>\n",
              "    </tr>\n",
              "    <tr>\n",
              "      <th>...</th>\n",
              "      <td>...</td>\n",
              "    </tr>\n",
              "    <tr>\n",
              "      <th>1661</th>\n",
              "      <td>(40.687204133979556, -73.860997895954)</td>\n",
              "    </tr>\n",
              "    <tr>\n",
              "      <th>1662</th>\n",
              "      <td>(40.86024195513732, -73.92842019162248)</td>\n",
              "    </tr>\n",
              "    <tr>\n",
              "      <th>1663</th>\n",
              "      <td>(40.70810404540373, -73.94306883695855)</td>\n",
              "    </tr>\n",
              "    <tr>\n",
              "      <th>1664</th>\n",
              "      <td>(40.82465431514079, -73.93835866654024)</td>\n",
              "    </tr>\n",
              "    <tr>\n",
              "      <th>1665</th>\n",
              "      <td>(40.73003889097716, -73.98064627090524)</td>\n",
              "    </tr>\n",
              "  </tbody>\n",
              "</table>\n",
              "<p>1622 rows × 1 columns</p>\n",
              "</div>"
            ],
            "text/plain": [
              "                                      Location\n",
              "0      (40.86568153633767, -73.92350095571744)\n",
              "1     (40.775945312321085, -73.91509393898605)\n",
              "2     (40.870324522111424, -73.88852464418646)\n",
              "3      (40.83599404683083, -73.82837939584206)\n",
              "4     (40.733059618956815, -73.87416975810375)\n",
              "...                                        ...\n",
              "1661    (40.687204133979556, -73.860997895954)\n",
              "1662   (40.86024195513732, -73.92842019162248)\n",
              "1663   (40.70810404540373, -73.94306883695855)\n",
              "1664   (40.82465431514079, -73.93835866654024)\n",
              "1665   (40.73003889097716, -73.98064627090524)\n",
              "\n",
              "[1622 rows x 1 columns]"
            ]
          },
          "metadata": {
            "tags": []
          },
          "execution_count": 45
        }
      ]
    },
    {
      "cell_type": "code",
      "metadata": {
        "colab": {
          "base_uri": "https://localhost:8080/",
          "height": 417
        },
        "id": "hYGd4NZkWPQ9",
        "outputId": "d9d253ec-fd14-4acb-8ba6-46a7b4f8dcc7"
      },
      "source": [
        "e=pd.DataFrame(req['Location Type'])\n",
        "e"
      ],
      "execution_count": 46,
      "outputs": [
        {
          "output_type": "execute_result",
          "data": {
            "text/html": [
              "<div>\n",
              "<style scoped>\n",
              "    .dataframe tbody tr th:only-of-type {\n",
              "        vertical-align: middle;\n",
              "    }\n",
              "\n",
              "    .dataframe tbody tr th {\n",
              "        vertical-align: top;\n",
              "    }\n",
              "\n",
              "    .dataframe thead th {\n",
              "        text-align: right;\n",
              "    }\n",
              "</style>\n",
              "<table border=\"1\" class=\"dataframe\">\n",
              "  <thead>\n",
              "    <tr style=\"text-align: right;\">\n",
              "      <th></th>\n",
              "      <th>Location Type</th>\n",
              "    </tr>\n",
              "  </thead>\n",
              "  <tbody>\n",
              "    <tr>\n",
              "      <th>0</th>\n",
              "      <td>Street/Sidewalk</td>\n",
              "    </tr>\n",
              "    <tr>\n",
              "      <th>1</th>\n",
              "      <td>Street/Sidewalk</td>\n",
              "    </tr>\n",
              "    <tr>\n",
              "      <th>2</th>\n",
              "      <td>Street/Sidewalk</td>\n",
              "    </tr>\n",
              "    <tr>\n",
              "      <th>3</th>\n",
              "      <td>Street/Sidewalk</td>\n",
              "    </tr>\n",
              "    <tr>\n",
              "      <th>4</th>\n",
              "      <td>Street/Sidewalk</td>\n",
              "    </tr>\n",
              "    <tr>\n",
              "      <th>...</th>\n",
              "      <td>...</td>\n",
              "    </tr>\n",
              "    <tr>\n",
              "      <th>1661</th>\n",
              "      <td>Street/Sidewalk</td>\n",
              "    </tr>\n",
              "    <tr>\n",
              "      <th>1662</th>\n",
              "      <td>Street/Sidewalk</td>\n",
              "    </tr>\n",
              "    <tr>\n",
              "      <th>1663</th>\n",
              "      <td>Club/Bar/Restaurant</td>\n",
              "    </tr>\n",
              "    <tr>\n",
              "      <th>1664</th>\n",
              "      <td>Street/Sidewalk</td>\n",
              "    </tr>\n",
              "    <tr>\n",
              "      <th>1665</th>\n",
              "      <td>Club/Bar/Restaurant</td>\n",
              "    </tr>\n",
              "  </tbody>\n",
              "</table>\n",
              "<p>1622 rows × 1 columns</p>\n",
              "</div>"
            ],
            "text/plain": [
              "            Location Type\n",
              "0         Street/Sidewalk\n",
              "1         Street/Sidewalk\n",
              "2         Street/Sidewalk\n",
              "3         Street/Sidewalk\n",
              "4         Street/Sidewalk\n",
              "...                   ...\n",
              "1661      Street/Sidewalk\n",
              "1662      Street/Sidewalk\n",
              "1663  Club/Bar/Restaurant\n",
              "1664      Street/Sidewalk\n",
              "1665  Club/Bar/Restaurant\n",
              "\n",
              "[1622 rows x 1 columns]"
            ]
          },
          "metadata": {
            "tags": []
          },
          "execution_count": 46
        }
      ]
    },
    {
      "cell_type": "code",
      "metadata": {
        "colab": {
          "base_uri": "https://localhost:8080/",
          "height": 417
        },
        "id": "xlPn_J5kWRTb",
        "outputId": "3efbcb1e-a556-44d7-a551-a287b6b85ea6"
      },
      "source": [
        "\n",
        "f=pd.concat((d,e),axis=1)\n",
        "f"
      ],
      "execution_count": 47,
      "outputs": [
        {
          "output_type": "execute_result",
          "data": {
            "text/html": [
              "<div>\n",
              "<style scoped>\n",
              "    .dataframe tbody tr th:only-of-type {\n",
              "        vertical-align: middle;\n",
              "    }\n",
              "\n",
              "    .dataframe tbody tr th {\n",
              "        vertical-align: top;\n",
              "    }\n",
              "\n",
              "    .dataframe thead th {\n",
              "        text-align: right;\n",
              "    }\n",
              "</style>\n",
              "<table border=\"1\" class=\"dataframe\">\n",
              "  <thead>\n",
              "    <tr style=\"text-align: right;\">\n",
              "      <th></th>\n",
              "      <th>Location</th>\n",
              "      <th>Location Type</th>\n",
              "    </tr>\n",
              "  </thead>\n",
              "  <tbody>\n",
              "    <tr>\n",
              "      <th>0</th>\n",
              "      <td>(40.86568153633767, -73.92350095571744)</td>\n",
              "      <td>Street/Sidewalk</td>\n",
              "    </tr>\n",
              "    <tr>\n",
              "      <th>1</th>\n",
              "      <td>(40.775945312321085, -73.91509393898605)</td>\n",
              "      <td>Street/Sidewalk</td>\n",
              "    </tr>\n",
              "    <tr>\n",
              "      <th>2</th>\n",
              "      <td>(40.870324522111424, -73.88852464418646)</td>\n",
              "      <td>Street/Sidewalk</td>\n",
              "    </tr>\n",
              "    <tr>\n",
              "      <th>3</th>\n",
              "      <td>(40.83599404683083, -73.82837939584206)</td>\n",
              "      <td>Street/Sidewalk</td>\n",
              "    </tr>\n",
              "    <tr>\n",
              "      <th>4</th>\n",
              "      <td>(40.733059618956815, -73.87416975810375)</td>\n",
              "      <td>Street/Sidewalk</td>\n",
              "    </tr>\n",
              "    <tr>\n",
              "      <th>...</th>\n",
              "      <td>...</td>\n",
              "      <td>...</td>\n",
              "    </tr>\n",
              "    <tr>\n",
              "      <th>1661</th>\n",
              "      <td>(40.687204133979556, -73.860997895954)</td>\n",
              "      <td>Street/Sidewalk</td>\n",
              "    </tr>\n",
              "    <tr>\n",
              "      <th>1662</th>\n",
              "      <td>(40.86024195513732, -73.92842019162248)</td>\n",
              "      <td>Street/Sidewalk</td>\n",
              "    </tr>\n",
              "    <tr>\n",
              "      <th>1663</th>\n",
              "      <td>(40.70810404540373, -73.94306883695855)</td>\n",
              "      <td>Club/Bar/Restaurant</td>\n",
              "    </tr>\n",
              "    <tr>\n",
              "      <th>1664</th>\n",
              "      <td>(40.82465431514079, -73.93835866654024)</td>\n",
              "      <td>Street/Sidewalk</td>\n",
              "    </tr>\n",
              "    <tr>\n",
              "      <th>1665</th>\n",
              "      <td>(40.73003889097716, -73.98064627090524)</td>\n",
              "      <td>Club/Bar/Restaurant</td>\n",
              "    </tr>\n",
              "  </tbody>\n",
              "</table>\n",
              "<p>1622 rows × 2 columns</p>\n",
              "</div>"
            ],
            "text/plain": [
              "                                      Location        Location Type\n",
              "0      (40.86568153633767, -73.92350095571744)      Street/Sidewalk\n",
              "1     (40.775945312321085, -73.91509393898605)      Street/Sidewalk\n",
              "2     (40.870324522111424, -73.88852464418646)      Street/Sidewalk\n",
              "3      (40.83599404683083, -73.82837939584206)      Street/Sidewalk\n",
              "4     (40.733059618956815, -73.87416975810375)      Street/Sidewalk\n",
              "...                                        ...                  ...\n",
              "1661    (40.687204133979556, -73.860997895954)      Street/Sidewalk\n",
              "1662   (40.86024195513732, -73.92842019162248)      Street/Sidewalk\n",
              "1663   (40.70810404540373, -73.94306883695855)  Club/Bar/Restaurant\n",
              "1664   (40.82465431514079, -73.93835866654024)      Street/Sidewalk\n",
              "1665   (40.73003889097716, -73.98064627090524)  Club/Bar/Restaurant\n",
              "\n",
              "[1622 rows x 2 columns]"
            ]
          },
          "metadata": {
            "tags": []
          },
          "execution_count": 47
        }
      ]
    },
    {
      "cell_type": "code",
      "metadata": {
        "colab": {
          "base_uri": "https://localhost:8080/",
          "height": 417
        },
        "id": "tyeilda6WTgs",
        "outputId": "978f17d3-04a6-4565-81fa-7e6dd4dfc993"
      },
      "source": [
        "g=pd.concat((v,f),axis=1)\n",
        "g"
      ],
      "execution_count": 48,
      "outputs": [
        {
          "output_type": "execute_result",
          "data": {
            "text/html": [
              "<div>\n",
              "<style scoped>\n",
              "    .dataframe tbody tr th:only-of-type {\n",
              "        vertical-align: middle;\n",
              "    }\n",
              "\n",
              "    .dataframe tbody tr th {\n",
              "        vertical-align: top;\n",
              "    }\n",
              "\n",
              "    .dataframe thead th {\n",
              "        text-align: right;\n",
              "    }\n",
              "</style>\n",
              "<table border=\"1\" class=\"dataframe\">\n",
              "  <thead>\n",
              "    <tr style=\"text-align: right;\">\n",
              "      <th></th>\n",
              "      <th>Complaint Type</th>\n",
              "      <th>Request_Closing_Time</th>\n",
              "      <th>Location</th>\n",
              "      <th>Location Type</th>\n",
              "    </tr>\n",
              "  </thead>\n",
              "  <tbody>\n",
              "    <tr>\n",
              "      <th>0</th>\n",
              "      <td>Noise - Street/Sidewalk</td>\n",
              "      <td>0.0</td>\n",
              "      <td>(40.86568153633767, -73.92350095571744)</td>\n",
              "      <td>Street/Sidewalk</td>\n",
              "    </tr>\n",
              "    <tr>\n",
              "      <th>1</th>\n",
              "      <td>Blocked Driveway</td>\n",
              "      <td>1.0</td>\n",
              "      <td>(40.775945312321085, -73.91509393898605)</td>\n",
              "      <td>Street/Sidewalk</td>\n",
              "    </tr>\n",
              "    <tr>\n",
              "      <th>2</th>\n",
              "      <td>Blocked Driveway</td>\n",
              "      <td>4.0</td>\n",
              "      <td>(40.870324522111424, -73.88852464418646)</td>\n",
              "      <td>Street/Sidewalk</td>\n",
              "    </tr>\n",
              "    <tr>\n",
              "      <th>3</th>\n",
              "      <td>Illegal Parking</td>\n",
              "      <td>7.0</td>\n",
              "      <td>(40.83599404683083, -73.82837939584206)</td>\n",
              "      <td>Street/Sidewalk</td>\n",
              "    </tr>\n",
              "    <tr>\n",
              "      <th>4</th>\n",
              "      <td>Illegal Parking</td>\n",
              "      <td>3.0</td>\n",
              "      <td>(40.733059618956815, -73.87416975810375)</td>\n",
              "      <td>Street/Sidewalk</td>\n",
              "    </tr>\n",
              "    <tr>\n",
              "      <th>...</th>\n",
              "      <td>...</td>\n",
              "      <td>...</td>\n",
              "      <td>...</td>\n",
              "      <td>...</td>\n",
              "    </tr>\n",
              "    <tr>\n",
              "      <th>1661</th>\n",
              "      <td>Blocked Driveway</td>\n",
              "      <td>11.0</td>\n",
              "      <td>(40.687204133979556, -73.860997895954)</td>\n",
              "      <td>Street/Sidewalk</td>\n",
              "    </tr>\n",
              "    <tr>\n",
              "      <th>1662</th>\n",
              "      <td>Noise - Street/Sidewalk</td>\n",
              "      <td>37.0</td>\n",
              "      <td>(40.86024195513732, -73.92842019162248)</td>\n",
              "      <td>Street/Sidewalk</td>\n",
              "    </tr>\n",
              "    <tr>\n",
              "      <th>1663</th>\n",
              "      <td>Noise - Commercial</td>\n",
              "      <td>2.0</td>\n",
              "      <td>(40.70810404540373, -73.94306883695855)</td>\n",
              "      <td>Club/Bar/Restaurant</td>\n",
              "    </tr>\n",
              "    <tr>\n",
              "      <th>1664</th>\n",
              "      <td>Noise - Street/Sidewalk</td>\n",
              "      <td>0.0</td>\n",
              "      <td>(40.82465431514079, -73.93835866654024)</td>\n",
              "      <td>Street/Sidewalk</td>\n",
              "    </tr>\n",
              "    <tr>\n",
              "      <th>1665</th>\n",
              "      <td>Noise - Commercial</td>\n",
              "      <td>1.0</td>\n",
              "      <td>(40.73003889097716, -73.98064627090524)</td>\n",
              "      <td>Club/Bar/Restaurant</td>\n",
              "    </tr>\n",
              "  </tbody>\n",
              "</table>\n",
              "<p>1622 rows × 4 columns</p>\n",
              "</div>"
            ],
            "text/plain": [
              "               Complaint Type  ...        Location Type\n",
              "0     Noise - Street/Sidewalk  ...      Street/Sidewalk\n",
              "1            Blocked Driveway  ...      Street/Sidewalk\n",
              "2            Blocked Driveway  ...      Street/Sidewalk\n",
              "3             Illegal Parking  ...      Street/Sidewalk\n",
              "4             Illegal Parking  ...      Street/Sidewalk\n",
              "...                       ...  ...                  ...\n",
              "1661         Blocked Driveway  ...      Street/Sidewalk\n",
              "1662  Noise - Street/Sidewalk  ...      Street/Sidewalk\n",
              "1663       Noise - Commercial  ...  Club/Bar/Restaurant\n",
              "1664  Noise - Street/Sidewalk  ...      Street/Sidewalk\n",
              "1665       Noise - Commercial  ...  Club/Bar/Restaurant\n",
              "\n",
              "[1622 rows x 4 columns]"
            ]
          },
          "metadata": {
            "tags": []
          },
          "execution_count": 48
        }
      ]
    },
    {
      "cell_type": "code",
      "metadata": {
        "colab": {
          "base_uri": "https://localhost:8080/"
        },
        "id": "iR0p7UsfWVZn",
        "outputId": "f492a92d-1da1-409a-d3cb-7d98ba831106"
      },
      "source": [
        "w=g.sort_values(by ='Request_Closing_Time' , ascending=False)\n",
        "print(\"Sorted complaint types based on the average ‘Request_Closing_Time’- timedelta64[h] type : \")\n",
        "print(w)"
      ],
      "execution_count": 49,
      "outputs": [
        {
          "output_type": "stream",
          "text": [
            "Sorted complaint types based on the average ‘Request_Closing_Time’- timedelta64[h] type : \n",
            "               Complaint Type  ...    Location Type\n",
            "24           Blocked Driveway  ...  Street/Sidewalk\n",
            "1662  Noise - Street/Sidewalk  ...  Street/Sidewalk\n",
            "1652  Noise - Street/Sidewalk  ...  Street/Sidewalk\n",
            "1507          Noise - Vehicle  ...  Street/Sidewalk\n",
            "1504          Illegal Parking  ...  Street/Sidewalk\n",
            "...                       ...  ...              ...\n",
            "557                   Vending  ...  Street/Sidewalk\n",
            "561                   Vending  ...  Street/Sidewalk\n",
            "571                   Vending  ...  Street/Sidewalk\n",
            "572                   Vending  ...  Street/Sidewalk\n",
            "0     Noise - Street/Sidewalk  ...  Street/Sidewalk\n",
            "\n",
            "[1622 rows x 4 columns]\n"
          ],
          "name": "stdout"
        }
      ]
    },
    {
      "cell_type": "code",
      "metadata": {
        "colab": {
          "base_uri": "https://localhost:8080/",
          "height": 417
        },
        "id": "gPi6-CV2WX98",
        "outputId": "9f8899a2-6add-4ba2-8ff1-5d3c56d72a51"
      },
      "source": [
        "sorted_data_timedelta=pd.DataFrame(w)               \n",
        "sorted_data_timedelta"
      ],
      "execution_count": 50,
      "outputs": [
        {
          "output_type": "execute_result",
          "data": {
            "text/html": [
              "<div>\n",
              "<style scoped>\n",
              "    .dataframe tbody tr th:only-of-type {\n",
              "        vertical-align: middle;\n",
              "    }\n",
              "\n",
              "    .dataframe tbody tr th {\n",
              "        vertical-align: top;\n",
              "    }\n",
              "\n",
              "    .dataframe thead th {\n",
              "        text-align: right;\n",
              "    }\n",
              "</style>\n",
              "<table border=\"1\" class=\"dataframe\">\n",
              "  <thead>\n",
              "    <tr style=\"text-align: right;\">\n",
              "      <th></th>\n",
              "      <th>Complaint Type</th>\n",
              "      <th>Request_Closing_Time</th>\n",
              "      <th>Location</th>\n",
              "      <th>Location Type</th>\n",
              "    </tr>\n",
              "  </thead>\n",
              "  <tbody>\n",
              "    <tr>\n",
              "      <th>24</th>\n",
              "      <td>Blocked Driveway</td>\n",
              "      <td>64.0</td>\n",
              "      <td>(40.87006255915965, -73.86432172842636)</td>\n",
              "      <td>Street/Sidewalk</td>\n",
              "    </tr>\n",
              "    <tr>\n",
              "      <th>1662</th>\n",
              "      <td>Noise - Street/Sidewalk</td>\n",
              "      <td>37.0</td>\n",
              "      <td>(40.86024195513732, -73.92842019162248)</td>\n",
              "      <td>Street/Sidewalk</td>\n",
              "    </tr>\n",
              "    <tr>\n",
              "      <th>1652</th>\n",
              "      <td>Noise - Street/Sidewalk</td>\n",
              "      <td>36.0</td>\n",
              "      <td>(40.86588098496191, -73.92631354584884)</td>\n",
              "      <td>Street/Sidewalk</td>\n",
              "    </tr>\n",
              "    <tr>\n",
              "      <th>1507</th>\n",
              "      <td>Noise - Vehicle</td>\n",
              "      <td>31.0</td>\n",
              "      <td>(40.86903400477784, -73.91727461539875)</td>\n",
              "      <td>Street/Sidewalk</td>\n",
              "    </tr>\n",
              "    <tr>\n",
              "      <th>1504</th>\n",
              "      <td>Illegal Parking</td>\n",
              "      <td>31.0</td>\n",
              "      <td>(40.86903400477784, -73.91727461539875)</td>\n",
              "      <td>Street/Sidewalk</td>\n",
              "    </tr>\n",
              "    <tr>\n",
              "      <th>...</th>\n",
              "      <td>...</td>\n",
              "      <td>...</td>\n",
              "      <td>...</td>\n",
              "      <td>...</td>\n",
              "    </tr>\n",
              "    <tr>\n",
              "      <th>557</th>\n",
              "      <td>Vending</td>\n",
              "      <td>0.0</td>\n",
              "      <td>(40.723612285331214, -73.99832601337529)</td>\n",
              "      <td>Street/Sidewalk</td>\n",
              "    </tr>\n",
              "    <tr>\n",
              "      <th>561</th>\n",
              "      <td>Vending</td>\n",
              "      <td>0.0</td>\n",
              "      <td>(40.722604968387486, -73.99917745003964)</td>\n",
              "      <td>Street/Sidewalk</td>\n",
              "    </tr>\n",
              "    <tr>\n",
              "      <th>571</th>\n",
              "      <td>Vending</td>\n",
              "      <td>0.0</td>\n",
              "      <td>(40.72338721781093, -73.99851722806198)</td>\n",
              "      <td>Street/Sidewalk</td>\n",
              "    </tr>\n",
              "    <tr>\n",
              "      <th>572</th>\n",
              "      <td>Vending</td>\n",
              "      <td>0.0</td>\n",
              "      <td>(40.722604968387486, -73.99917745003964)</td>\n",
              "      <td>Street/Sidewalk</td>\n",
              "    </tr>\n",
              "    <tr>\n",
              "      <th>0</th>\n",
              "      <td>Noise - Street/Sidewalk</td>\n",
              "      <td>0.0</td>\n",
              "      <td>(40.86568153633767, -73.92350095571744)</td>\n",
              "      <td>Street/Sidewalk</td>\n",
              "    </tr>\n",
              "  </tbody>\n",
              "</table>\n",
              "<p>1622 rows × 4 columns</p>\n",
              "</div>"
            ],
            "text/plain": [
              "               Complaint Type  ...    Location Type\n",
              "24           Blocked Driveway  ...  Street/Sidewalk\n",
              "1662  Noise - Street/Sidewalk  ...  Street/Sidewalk\n",
              "1652  Noise - Street/Sidewalk  ...  Street/Sidewalk\n",
              "1507          Noise - Vehicle  ...  Street/Sidewalk\n",
              "1504          Illegal Parking  ...  Street/Sidewalk\n",
              "...                       ...  ...              ...\n",
              "557                   Vending  ...  Street/Sidewalk\n",
              "561                   Vending  ...  Street/Sidewalk\n",
              "571                   Vending  ...  Street/Sidewalk\n",
              "572                   Vending  ...  Street/Sidewalk\n",
              "0     Noise - Street/Sidewalk  ...  Street/Sidewalk\n",
              "\n",
              "[1622 rows x 4 columns]"
            ]
          },
          "metadata": {
            "tags": []
          },
          "execution_count": 50
        }
      ]
    },
    {
      "cell_type": "code",
      "metadata": {
        "colab": {
          "base_uri": "https://localhost:8080/",
          "height": 203
        },
        "id": "PL8FvCWgWkgF",
        "outputId": "234c1208-b901-44b2-956f-e0eada2b409e"
      },
      "source": [
        "sorted_data_timedelta.head()"
      ],
      "execution_count": 51,
      "outputs": [
        {
          "output_type": "execute_result",
          "data": {
            "text/html": [
              "<div>\n",
              "<style scoped>\n",
              "    .dataframe tbody tr th:only-of-type {\n",
              "        vertical-align: middle;\n",
              "    }\n",
              "\n",
              "    .dataframe tbody tr th {\n",
              "        vertical-align: top;\n",
              "    }\n",
              "\n",
              "    .dataframe thead th {\n",
              "        text-align: right;\n",
              "    }\n",
              "</style>\n",
              "<table border=\"1\" class=\"dataframe\">\n",
              "  <thead>\n",
              "    <tr style=\"text-align: right;\">\n",
              "      <th></th>\n",
              "      <th>Complaint Type</th>\n",
              "      <th>Request_Closing_Time</th>\n",
              "      <th>Location</th>\n",
              "      <th>Location Type</th>\n",
              "    </tr>\n",
              "  </thead>\n",
              "  <tbody>\n",
              "    <tr>\n",
              "      <th>24</th>\n",
              "      <td>Blocked Driveway</td>\n",
              "      <td>64.0</td>\n",
              "      <td>(40.87006255915965, -73.86432172842636)</td>\n",
              "      <td>Street/Sidewalk</td>\n",
              "    </tr>\n",
              "    <tr>\n",
              "      <th>1662</th>\n",
              "      <td>Noise - Street/Sidewalk</td>\n",
              "      <td>37.0</td>\n",
              "      <td>(40.86024195513732, -73.92842019162248)</td>\n",
              "      <td>Street/Sidewalk</td>\n",
              "    </tr>\n",
              "    <tr>\n",
              "      <th>1652</th>\n",
              "      <td>Noise - Street/Sidewalk</td>\n",
              "      <td>36.0</td>\n",
              "      <td>(40.86588098496191, -73.92631354584884)</td>\n",
              "      <td>Street/Sidewalk</td>\n",
              "    </tr>\n",
              "    <tr>\n",
              "      <th>1507</th>\n",
              "      <td>Noise - Vehicle</td>\n",
              "      <td>31.0</td>\n",
              "      <td>(40.86903400477784, -73.91727461539875)</td>\n",
              "      <td>Street/Sidewalk</td>\n",
              "    </tr>\n",
              "    <tr>\n",
              "      <th>1504</th>\n",
              "      <td>Illegal Parking</td>\n",
              "      <td>31.0</td>\n",
              "      <td>(40.86903400477784, -73.91727461539875)</td>\n",
              "      <td>Street/Sidewalk</td>\n",
              "    </tr>\n",
              "  </tbody>\n",
              "</table>\n",
              "</div>"
            ],
            "text/plain": [
              "               Complaint Type  ...    Location Type\n",
              "24           Blocked Driveway  ...  Street/Sidewalk\n",
              "1662  Noise - Street/Sidewalk  ...  Street/Sidewalk\n",
              "1652  Noise - Street/Sidewalk  ...  Street/Sidewalk\n",
              "1507          Noise - Vehicle  ...  Street/Sidewalk\n",
              "1504          Illegal Parking  ...  Street/Sidewalk\n",
              "\n",
              "[5 rows x 4 columns]"
            ]
          },
          "metadata": {
            "tags": []
          },
          "execution_count": 51
        }
      ]
    },
    {
      "cell_type": "code",
      "metadata": {
        "colab": {
          "base_uri": "https://localhost:8080/",
          "height": 203
        },
        "id": "UUD_W9OOWm0_",
        "outputId": "32474b54-796f-4f9d-c1b9-c07d4d1f24e4"
      },
      "source": [
        "sorted_data_timedelta.tail()"
      ],
      "execution_count": 52,
      "outputs": [
        {
          "output_type": "execute_result",
          "data": {
            "text/html": [
              "<div>\n",
              "<style scoped>\n",
              "    .dataframe tbody tr th:only-of-type {\n",
              "        vertical-align: middle;\n",
              "    }\n",
              "\n",
              "    .dataframe tbody tr th {\n",
              "        vertical-align: top;\n",
              "    }\n",
              "\n",
              "    .dataframe thead th {\n",
              "        text-align: right;\n",
              "    }\n",
              "</style>\n",
              "<table border=\"1\" class=\"dataframe\">\n",
              "  <thead>\n",
              "    <tr style=\"text-align: right;\">\n",
              "      <th></th>\n",
              "      <th>Complaint Type</th>\n",
              "      <th>Request_Closing_Time</th>\n",
              "      <th>Location</th>\n",
              "      <th>Location Type</th>\n",
              "    </tr>\n",
              "  </thead>\n",
              "  <tbody>\n",
              "    <tr>\n",
              "      <th>557</th>\n",
              "      <td>Vending</td>\n",
              "      <td>0.0</td>\n",
              "      <td>(40.723612285331214, -73.99832601337529)</td>\n",
              "      <td>Street/Sidewalk</td>\n",
              "    </tr>\n",
              "    <tr>\n",
              "      <th>561</th>\n",
              "      <td>Vending</td>\n",
              "      <td>0.0</td>\n",
              "      <td>(40.722604968387486, -73.99917745003964)</td>\n",
              "      <td>Street/Sidewalk</td>\n",
              "    </tr>\n",
              "    <tr>\n",
              "      <th>571</th>\n",
              "      <td>Vending</td>\n",
              "      <td>0.0</td>\n",
              "      <td>(40.72338721781093, -73.99851722806198)</td>\n",
              "      <td>Street/Sidewalk</td>\n",
              "    </tr>\n",
              "    <tr>\n",
              "      <th>572</th>\n",
              "      <td>Vending</td>\n",
              "      <td>0.0</td>\n",
              "      <td>(40.722604968387486, -73.99917745003964)</td>\n",
              "      <td>Street/Sidewalk</td>\n",
              "    </tr>\n",
              "    <tr>\n",
              "      <th>0</th>\n",
              "      <td>Noise - Street/Sidewalk</td>\n",
              "      <td>0.0</td>\n",
              "      <td>(40.86568153633767, -73.92350095571744)</td>\n",
              "      <td>Street/Sidewalk</td>\n",
              "    </tr>\n",
              "  </tbody>\n",
              "</table>\n",
              "</div>"
            ],
            "text/plain": [
              "              Complaint Type  ...    Location Type\n",
              "557                  Vending  ...  Street/Sidewalk\n",
              "561                  Vending  ...  Street/Sidewalk\n",
              "571                  Vending  ...  Street/Sidewalk\n",
              "572                  Vending  ...  Street/Sidewalk\n",
              "0    Noise - Street/Sidewalk  ...  Street/Sidewalk\n",
              "\n",
              "[5 rows x 4 columns]"
            ]
          },
          "metadata": {
            "tags": []
          },
          "execution_count": 52
        }
      ]
    },
    {
      "cell_type": "code",
      "metadata": {
        "colab": {
          "base_uri": "https://localhost:8080/",
          "height": 447
        },
        "id": "sHGkfWIaWoj-",
        "outputId": "577fcd62-8464-4680-fdaa-f2b1ba8c7ff1"
      },
      "source": [
        "n=sorted_data_timedelta.groupby(['Location'])\n",
        "grp=n.first()\n",
        "grp"
      ],
      "execution_count": 53,
      "outputs": [
        {
          "output_type": "execute_result",
          "data": {
            "text/html": [
              "<div>\n",
              "<style scoped>\n",
              "    .dataframe tbody tr th:only-of-type {\n",
              "        vertical-align: middle;\n",
              "    }\n",
              "\n",
              "    .dataframe tbody tr th {\n",
              "        vertical-align: top;\n",
              "    }\n",
              "\n",
              "    .dataframe thead th {\n",
              "        text-align: right;\n",
              "    }\n",
              "</style>\n",
              "<table border=\"1\" class=\"dataframe\">\n",
              "  <thead>\n",
              "    <tr style=\"text-align: right;\">\n",
              "      <th></th>\n",
              "      <th>Complaint Type</th>\n",
              "      <th>Request_Closing_Time</th>\n",
              "      <th>Location Type</th>\n",
              "    </tr>\n",
              "    <tr>\n",
              "      <th>Location</th>\n",
              "      <th></th>\n",
              "      <th></th>\n",
              "      <th></th>\n",
              "    </tr>\n",
              "  </thead>\n",
              "  <tbody>\n",
              "    <tr>\n",
              "      <th>(40.511738292044555, -74.25139586276529)</th>\n",
              "      <td>Illegal Parking</td>\n",
              "      <td>9.0</td>\n",
              "      <td>Street/Sidewalk</td>\n",
              "    </tr>\n",
              "    <tr>\n",
              "      <th>(40.51346042519412, -74.24452241831678)</th>\n",
              "      <td>Illegal Parking</td>\n",
              "      <td>3.0</td>\n",
              "      <td>Street/Sidewalk</td>\n",
              "    </tr>\n",
              "    <tr>\n",
              "      <th>(40.534524981535355, -74.21826912509813)</th>\n",
              "      <td>Illegal Parking</td>\n",
              "      <td>3.0</td>\n",
              "      <td>Street/Sidewalk</td>\n",
              "    </tr>\n",
              "    <tr>\n",
              "      <th>(40.5366306678224, -74.14945307054214)</th>\n",
              "      <td>Illegal Parking</td>\n",
              "      <td>1.0</td>\n",
              "      <td>Street/Sidewalk</td>\n",
              "    </tr>\n",
              "    <tr>\n",
              "      <th>(40.541547488661976, -74.14666129786113)</th>\n",
              "      <td>Noise - Commercial</td>\n",
              "      <td>9.0</td>\n",
              "      <td>Club/Bar/Restaurant</td>\n",
              "    </tr>\n",
              "    <tr>\n",
              "      <th>...</th>\n",
              "      <td>...</td>\n",
              "      <td>...</td>\n",
              "      <td>...</td>\n",
              "    </tr>\n",
              "    <tr>\n",
              "      <th>(40.90451805844007, -73.90740156002674)</th>\n",
              "      <td>Illegal Parking</td>\n",
              "      <td>1.0</td>\n",
              "      <td>Street/Sidewalk</td>\n",
              "    </tr>\n",
              "    <tr>\n",
              "      <th>(40.90545215435259, -73.84645447878691)</th>\n",
              "      <td>Blocked Driveway</td>\n",
              "      <td>5.0</td>\n",
              "      <td>Street/Sidewalk</td>\n",
              "    </tr>\n",
              "    <tr>\n",
              "      <th>(40.9058902172534, -73.85192694069899)</th>\n",
              "      <td>Blocked Driveway</td>\n",
              "      <td>9.0</td>\n",
              "      <td>Street/Sidewalk</td>\n",
              "    </tr>\n",
              "    <tr>\n",
              "      <th>(40.90620643894676, -73.85025126561072)</th>\n",
              "      <td>Derelict Vehicle</td>\n",
              "      <td>1.0</td>\n",
              "      <td>Street/Sidewalk</td>\n",
              "    </tr>\n",
              "    <tr>\n",
              "      <th>(40.91006118467869, -73.89949606151733)</th>\n",
              "      <td>Illegal Parking</td>\n",
              "      <td>1.0</td>\n",
              "      <td>Street/Sidewalk</td>\n",
              "    </tr>\n",
              "  </tbody>\n",
              "</table>\n",
              "<p>1353 rows × 3 columns</p>\n",
              "</div>"
            ],
            "text/plain": [
              "                                              Complaint Type  ...        Location Type\n",
              "Location                                                      ...                     \n",
              "(40.511738292044555, -74.25139586276529)     Illegal Parking  ...      Street/Sidewalk\n",
              "(40.51346042519412, -74.24452241831678)      Illegal Parking  ...      Street/Sidewalk\n",
              "(40.534524981535355, -74.21826912509813)     Illegal Parking  ...      Street/Sidewalk\n",
              "(40.5366306678224, -74.14945307054214)       Illegal Parking  ...      Street/Sidewalk\n",
              "(40.541547488661976, -74.14666129786113)  Noise - Commercial  ...  Club/Bar/Restaurant\n",
              "...                                                      ...  ...                  ...\n",
              "(40.90451805844007, -73.90740156002674)      Illegal Parking  ...      Street/Sidewalk\n",
              "(40.90545215435259, -73.84645447878691)     Blocked Driveway  ...      Street/Sidewalk\n",
              "(40.9058902172534, -73.85192694069899)      Blocked Driveway  ...      Street/Sidewalk\n",
              "(40.90620643894676, -73.85025126561072)     Derelict Vehicle  ...      Street/Sidewalk\n",
              "(40.91006118467869, -73.89949606151733)      Illegal Parking  ...      Street/Sidewalk\n",
              "\n",
              "[1353 rows x 3 columns]"
            ]
          },
          "metadata": {
            "tags": []
          },
          "execution_count": 53
        }
      ]
    },
    {
      "cell_type": "code",
      "metadata": {
        "colab": {
          "base_uri": "https://localhost:8080/"
        },
        "id": "LeQ37bMWWqhC",
        "outputId": "337c5fef-0130-4d2a-9aeb-8df909737ed9"
      },
      "source": [
        "desc=grp.sort_values(by ='Request_Closing_Time' , ascending=False)\n",
        "print(desc)"
      ],
      "execution_count": 54,
      "outputs": [
        {
          "output_type": "stream",
          "text": [
            "                                                   Complaint Type  ...        Location Type\n",
            "Location                                                           ...                     \n",
            "(40.87006255915965, -73.86432172842636)          Blocked Driveway  ...      Street/Sidewalk\n",
            "(40.86024195513732, -73.92842019162248)   Noise - Street/Sidewalk  ...      Street/Sidewalk\n",
            "(40.86588098496191, -73.92631354584884)   Noise - Street/Sidewalk  ...      Street/Sidewalk\n",
            "(40.86903400477784, -73.91727461539875)           Noise - Vehicle  ...      Street/Sidewalk\n",
            "(40.88657631873719, -73.85663172949411)          Blocked Driveway  ...      Street/Sidewalk\n",
            "...                                                           ...  ...                  ...\n",
            "(40.69835432325958, -73.82006399847626)                  Drinking  ...  Club/Bar/Restaurant\n",
            "(40.826101709196, -73.94566339279595)    Noise - House of Worship  ...     House of Worship\n",
            "(40.82827829711324, -73.90703069080907)           Illegal Parking  ...      Street/Sidewalk\n",
            "(40.69719094333919, -73.97365958396954)           Illegal Parking  ...      Street/Sidewalk\n",
            "(40.71153224007471, -73.89594304802966)           Illegal Parking  ...      Street/Sidewalk\n",
            "\n",
            "[1353 rows x 3 columns]\n"
          ],
          "name": "stdout"
        }
      ]
    },
    {
      "cell_type": "code",
      "metadata": {
        "id": "nVGMKBMaWstf"
      },
      "source": [
        "grp_loc=pd.DataFrame(desc)"
      ],
      "execution_count": 55,
      "outputs": []
    },
    {
      "cell_type": "code",
      "metadata": {
        "colab": {
          "base_uri": "https://localhost:8080/",
          "height": 447
        },
        "id": "GlbcvHDnWwiA",
        "outputId": "146bd10c-156c-445d-a23f-2fdb07e9019a"
      },
      "source": [
        "grp_loc   "
      ],
      "execution_count": 56,
      "outputs": [
        {
          "output_type": "execute_result",
          "data": {
            "text/html": [
              "<div>\n",
              "<style scoped>\n",
              "    .dataframe tbody tr th:only-of-type {\n",
              "        vertical-align: middle;\n",
              "    }\n",
              "\n",
              "    .dataframe tbody tr th {\n",
              "        vertical-align: top;\n",
              "    }\n",
              "\n",
              "    .dataframe thead th {\n",
              "        text-align: right;\n",
              "    }\n",
              "</style>\n",
              "<table border=\"1\" class=\"dataframe\">\n",
              "  <thead>\n",
              "    <tr style=\"text-align: right;\">\n",
              "      <th></th>\n",
              "      <th>Complaint Type</th>\n",
              "      <th>Request_Closing_Time</th>\n",
              "      <th>Location Type</th>\n",
              "    </tr>\n",
              "    <tr>\n",
              "      <th>Location</th>\n",
              "      <th></th>\n",
              "      <th></th>\n",
              "      <th></th>\n",
              "    </tr>\n",
              "  </thead>\n",
              "  <tbody>\n",
              "    <tr>\n",
              "      <th>(40.87006255915965, -73.86432172842636)</th>\n",
              "      <td>Blocked Driveway</td>\n",
              "      <td>64.0</td>\n",
              "      <td>Street/Sidewalk</td>\n",
              "    </tr>\n",
              "    <tr>\n",
              "      <th>(40.86024195513732, -73.92842019162248)</th>\n",
              "      <td>Noise - Street/Sidewalk</td>\n",
              "      <td>37.0</td>\n",
              "      <td>Street/Sidewalk</td>\n",
              "    </tr>\n",
              "    <tr>\n",
              "      <th>(40.86588098496191, -73.92631354584884)</th>\n",
              "      <td>Noise - Street/Sidewalk</td>\n",
              "      <td>36.0</td>\n",
              "      <td>Street/Sidewalk</td>\n",
              "    </tr>\n",
              "    <tr>\n",
              "      <th>(40.86903400477784, -73.91727461539875)</th>\n",
              "      <td>Noise - Vehicle</td>\n",
              "      <td>31.0</td>\n",
              "      <td>Street/Sidewalk</td>\n",
              "    </tr>\n",
              "    <tr>\n",
              "      <th>(40.88657631873719, -73.85663172949411)</th>\n",
              "      <td>Blocked Driveway</td>\n",
              "      <td>29.0</td>\n",
              "      <td>Street/Sidewalk</td>\n",
              "    </tr>\n",
              "    <tr>\n",
              "      <th>...</th>\n",
              "      <td>...</td>\n",
              "      <td>...</td>\n",
              "      <td>...</td>\n",
              "    </tr>\n",
              "    <tr>\n",
              "      <th>(40.69835432325958, -73.82006399847626)</th>\n",
              "      <td>Drinking</td>\n",
              "      <td>0.0</td>\n",
              "      <td>Club/Bar/Restaurant</td>\n",
              "    </tr>\n",
              "    <tr>\n",
              "      <th>(40.826101709196, -73.94566339279595)</th>\n",
              "      <td>Noise - House of Worship</td>\n",
              "      <td>0.0</td>\n",
              "      <td>House of Worship</td>\n",
              "    </tr>\n",
              "    <tr>\n",
              "      <th>(40.82827829711324, -73.90703069080907)</th>\n",
              "      <td>Illegal Parking</td>\n",
              "      <td>0.0</td>\n",
              "      <td>Street/Sidewalk</td>\n",
              "    </tr>\n",
              "    <tr>\n",
              "      <th>(40.69719094333919, -73.97365958396954)</th>\n",
              "      <td>Illegal Parking</td>\n",
              "      <td>0.0</td>\n",
              "      <td>Street/Sidewalk</td>\n",
              "    </tr>\n",
              "    <tr>\n",
              "      <th>(40.71153224007471, -73.89594304802966)</th>\n",
              "      <td>Illegal Parking</td>\n",
              "      <td>0.0</td>\n",
              "      <td>Street/Sidewalk</td>\n",
              "    </tr>\n",
              "  </tbody>\n",
              "</table>\n",
              "<p>1353 rows × 3 columns</p>\n",
              "</div>"
            ],
            "text/plain": [
              "                                                   Complaint Type  ...        Location Type\n",
              "Location                                                           ...                     \n",
              "(40.87006255915965, -73.86432172842636)          Blocked Driveway  ...      Street/Sidewalk\n",
              "(40.86024195513732, -73.92842019162248)   Noise - Street/Sidewalk  ...      Street/Sidewalk\n",
              "(40.86588098496191, -73.92631354584884)   Noise - Street/Sidewalk  ...      Street/Sidewalk\n",
              "(40.86903400477784, -73.91727461539875)           Noise - Vehicle  ...      Street/Sidewalk\n",
              "(40.88657631873719, -73.85663172949411)          Blocked Driveway  ...      Street/Sidewalk\n",
              "...                                                           ...  ...                  ...\n",
              "(40.69835432325958, -73.82006399847626)                  Drinking  ...  Club/Bar/Restaurant\n",
              "(40.826101709196, -73.94566339279595)    Noise - House of Worship  ...     House of Worship\n",
              "(40.82827829711324, -73.90703069080907)           Illegal Parking  ...      Street/Sidewalk\n",
              "(40.69719094333919, -73.97365958396954)           Illegal Parking  ...      Street/Sidewalk\n",
              "(40.71153224007471, -73.89594304802966)           Illegal Parking  ...      Street/Sidewalk\n",
              "\n",
              "[1353 rows x 3 columns]"
            ]
          },
          "metadata": {
            "tags": []
          },
          "execution_count": 56
        }
      ]
    },
    {
      "cell_type": "code",
      "metadata": {
        "id": "LjLIctTRWyxd"
      },
      "source": [
        "import scipy.stats as stats\n",
        "import pandas as pd"
      ],
      "execution_count": 57,
      "outputs": []
    },
    {
      "cell_type": "code",
      "metadata": {
        "colab": {
          "base_uri": "https://localhost:8080/",
          "height": 1000
        },
        "id": "Zbe1TBSWW1cq",
        "outputId": "f8b1515f-8293-4362-d073-7cfe2a2357f5"
      },
      "source": [
        "pd.set_option('display.max_rows', None)\n",
        "ann=v.groupby(['Complaint Type','Request_Closing_Time'])\n",
        "df=ann.first()\n",
        "df"
      ],
      "execution_count": 58,
      "outputs": [
        {
          "output_type": "execute_result",
          "data": {
            "text/html": [
              "<div>\n",
              "<style scoped>\n",
              "    .dataframe tbody tr th:only-of-type {\n",
              "        vertical-align: middle;\n",
              "    }\n",
              "\n",
              "    .dataframe tbody tr th {\n",
              "        vertical-align: top;\n",
              "    }\n",
              "\n",
              "    .dataframe thead th {\n",
              "        text-align: right;\n",
              "    }\n",
              "</style>\n",
              "<table border=\"1\" class=\"dataframe\">\n",
              "  <thead>\n",
              "    <tr style=\"text-align: right;\">\n",
              "      <th></th>\n",
              "      <th></th>\n",
              "    </tr>\n",
              "    <tr>\n",
              "      <th>Complaint Type</th>\n",
              "      <th>Request_Closing_Time</th>\n",
              "    </tr>\n",
              "  </thead>\n",
              "  <tbody>\n",
              "    <tr>\n",
              "      <th rowspan=\"10\" valign=\"top\">Animal Abuse</th>\n",
              "      <th>0.0</th>\n",
              "    </tr>\n",
              "    <tr>\n",
              "      <th>1.0</th>\n",
              "    </tr>\n",
              "    <tr>\n",
              "      <th>2.0</th>\n",
              "    </tr>\n",
              "    <tr>\n",
              "      <th>3.0</th>\n",
              "    </tr>\n",
              "    <tr>\n",
              "      <th>4.0</th>\n",
              "    </tr>\n",
              "    <tr>\n",
              "      <th>6.0</th>\n",
              "    </tr>\n",
              "    <tr>\n",
              "      <th>7.0</th>\n",
              "    </tr>\n",
              "    <tr>\n",
              "      <th>8.0</th>\n",
              "    </tr>\n",
              "    <tr>\n",
              "      <th>10.0</th>\n",
              "    </tr>\n",
              "    <tr>\n",
              "      <th>11.0</th>\n",
              "    </tr>\n",
              "    <tr>\n",
              "      <th rowspan=\"26\" valign=\"top\">Blocked Driveway</th>\n",
              "      <th>0.0</th>\n",
              "    </tr>\n",
              "    <tr>\n",
              "      <th>1.0</th>\n",
              "    </tr>\n",
              "    <tr>\n",
              "      <th>2.0</th>\n",
              "    </tr>\n",
              "    <tr>\n",
              "      <th>3.0</th>\n",
              "    </tr>\n",
              "    <tr>\n",
              "      <th>4.0</th>\n",
              "    </tr>\n",
              "    <tr>\n",
              "      <th>5.0</th>\n",
              "    </tr>\n",
              "    <tr>\n",
              "      <th>6.0</th>\n",
              "    </tr>\n",
              "    <tr>\n",
              "      <th>7.0</th>\n",
              "    </tr>\n",
              "    <tr>\n",
              "      <th>8.0</th>\n",
              "    </tr>\n",
              "    <tr>\n",
              "      <th>9.0</th>\n",
              "    </tr>\n",
              "    <tr>\n",
              "      <th>10.0</th>\n",
              "    </tr>\n",
              "    <tr>\n",
              "      <th>11.0</th>\n",
              "    </tr>\n",
              "    <tr>\n",
              "      <th>12.0</th>\n",
              "    </tr>\n",
              "    <tr>\n",
              "      <th>13.0</th>\n",
              "    </tr>\n",
              "    <tr>\n",
              "      <th>14.0</th>\n",
              "    </tr>\n",
              "    <tr>\n",
              "      <th>15.0</th>\n",
              "    </tr>\n",
              "    <tr>\n",
              "      <th>16.0</th>\n",
              "    </tr>\n",
              "    <tr>\n",
              "      <th>17.0</th>\n",
              "    </tr>\n",
              "    <tr>\n",
              "      <th>18.0</th>\n",
              "    </tr>\n",
              "    <tr>\n",
              "      <th>19.0</th>\n",
              "    </tr>\n",
              "    <tr>\n",
              "      <th>24.0</th>\n",
              "    </tr>\n",
              "    <tr>\n",
              "      <th>25.0</th>\n",
              "    </tr>\n",
              "    <tr>\n",
              "      <th>27.0</th>\n",
              "    </tr>\n",
              "    <tr>\n",
              "      <th>28.0</th>\n",
              "    </tr>\n",
              "    <tr>\n",
              "      <th>29.0</th>\n",
              "    </tr>\n",
              "    <tr>\n",
              "      <th>64.0</th>\n",
              "    </tr>\n",
              "    <tr>\n",
              "      <th rowspan=\"19\" valign=\"top\">Derelict Vehicle</th>\n",
              "      <th>0.0</th>\n",
              "    </tr>\n",
              "    <tr>\n",
              "      <th>1.0</th>\n",
              "    </tr>\n",
              "    <tr>\n",
              "      <th>2.0</th>\n",
              "    </tr>\n",
              "    <tr>\n",
              "      <th>3.0</th>\n",
              "    </tr>\n",
              "    <tr>\n",
              "      <th>4.0</th>\n",
              "    </tr>\n",
              "    <tr>\n",
              "      <th>5.0</th>\n",
              "    </tr>\n",
              "    <tr>\n",
              "      <th>6.0</th>\n",
              "    </tr>\n",
              "    <tr>\n",
              "      <th>7.0</th>\n",
              "    </tr>\n",
              "    <tr>\n",
              "      <th>8.0</th>\n",
              "    </tr>\n",
              "    <tr>\n",
              "      <th>9.0</th>\n",
              "    </tr>\n",
              "    <tr>\n",
              "      <th>10.0</th>\n",
              "    </tr>\n",
              "    <tr>\n",
              "      <th>11.0</th>\n",
              "    </tr>\n",
              "    <tr>\n",
              "      <th>12.0</th>\n",
              "    </tr>\n",
              "    <tr>\n",
              "      <th>13.0</th>\n",
              "    </tr>\n",
              "    <tr>\n",
              "      <th>14.0</th>\n",
              "    </tr>\n",
              "    <tr>\n",
              "      <th>15.0</th>\n",
              "    </tr>\n",
              "    <tr>\n",
              "      <th>16.0</th>\n",
              "    </tr>\n",
              "    <tr>\n",
              "      <th>25.0</th>\n",
              "    </tr>\n",
              "    <tr>\n",
              "      <th>29.0</th>\n",
              "    </tr>\n",
              "    <tr>\n",
              "      <th rowspan=\"3\" valign=\"top\">Drinking</th>\n",
              "      <th>0.0</th>\n",
              "    </tr>\n",
              "    <tr>\n",
              "      <th>3.0</th>\n",
              "    </tr>\n",
              "    <tr>\n",
              "      <th>4.0</th>\n",
              "    </tr>\n",
              "    <tr>\n",
              "      <th rowspan=\"21\" valign=\"top\">Illegal Parking</th>\n",
              "      <th>0.0</th>\n",
              "    </tr>\n",
              "    <tr>\n",
              "      <th>1.0</th>\n",
              "    </tr>\n",
              "    <tr>\n",
              "      <th>2.0</th>\n",
              "    </tr>\n",
              "    <tr>\n",
              "      <th>3.0</th>\n",
              "    </tr>\n",
              "    <tr>\n",
              "      <th>4.0</th>\n",
              "    </tr>\n",
              "    <tr>\n",
              "      <th>5.0</th>\n",
              "    </tr>\n",
              "    <tr>\n",
              "      <th>6.0</th>\n",
              "    </tr>\n",
              "    <tr>\n",
              "      <th>7.0</th>\n",
              "    </tr>\n",
              "    <tr>\n",
              "      <th>8.0</th>\n",
              "    </tr>\n",
              "    <tr>\n",
              "      <th>9.0</th>\n",
              "    </tr>\n",
              "    <tr>\n",
              "      <th>10.0</th>\n",
              "    </tr>\n",
              "    <tr>\n",
              "      <th>11.0</th>\n",
              "    </tr>\n",
              "    <tr>\n",
              "      <th>12.0</th>\n",
              "    </tr>\n",
              "    <tr>\n",
              "      <th>13.0</th>\n",
              "    </tr>\n",
              "    <tr>\n",
              "      <th>14.0</th>\n",
              "    </tr>\n",
              "    <tr>\n",
              "      <th>15.0</th>\n",
              "    </tr>\n",
              "    <tr>\n",
              "      <th>16.0</th>\n",
              "    </tr>\n",
              "    <tr>\n",
              "      <th>18.0</th>\n",
              "    </tr>\n",
              "    <tr>\n",
              "      <th>20.0</th>\n",
              "    </tr>\n",
              "    <tr>\n",
              "      <th>25.0</th>\n",
              "    </tr>\n",
              "    <tr>\n",
              "      <th>31.0</th>\n",
              "    </tr>\n",
              "    <tr>\n",
              "      <th rowspan=\"13\" valign=\"top\">Noise - Commercial</th>\n",
              "      <th>0.0</th>\n",
              "    </tr>\n",
              "    <tr>\n",
              "      <th>1.0</th>\n",
              "    </tr>\n",
              "    <tr>\n",
              "      <th>2.0</th>\n",
              "    </tr>\n",
              "    <tr>\n",
              "      <th>3.0</th>\n",
              "    </tr>\n",
              "    <tr>\n",
              "      <th>4.0</th>\n",
              "    </tr>\n",
              "    <tr>\n",
              "      <th>5.0</th>\n",
              "    </tr>\n",
              "    <tr>\n",
              "      <th>6.0</th>\n",
              "    </tr>\n",
              "    <tr>\n",
              "      <th>7.0</th>\n",
              "    </tr>\n",
              "    <tr>\n",
              "      <th>9.0</th>\n",
              "    </tr>\n",
              "    <tr>\n",
              "      <th>11.0</th>\n",
              "    </tr>\n",
              "    <tr>\n",
              "      <th>14.0</th>\n",
              "    </tr>\n",
              "    <tr>\n",
              "      <th>16.0</th>\n",
              "    </tr>\n",
              "    <tr>\n",
              "      <th>23.0</th>\n",
              "    </tr>\n",
              "    <tr>\n",
              "      <th rowspan=\"2\" valign=\"top\">Noise - House of Worship</th>\n",
              "      <th>0.0</th>\n",
              "    </tr>\n",
              "    <tr>\n",
              "      <th>1.0</th>\n",
              "    </tr>\n",
              "    <tr>\n",
              "      <th rowspan=\"2\" valign=\"top\">Noise - Park</th>\n",
              "      <th>0.0</th>\n",
              "    </tr>\n",
              "    <tr>\n",
              "      <th>12.0</th>\n",
              "    </tr>\n",
              "    <tr>\n",
              "      <th rowspan=\"11\" valign=\"top\">Noise - Street/Sidewalk</th>\n",
              "      <th>0.0</th>\n",
              "    </tr>\n",
              "    <tr>\n",
              "      <th>1.0</th>\n",
              "    </tr>\n",
              "    <tr>\n",
              "      <th>2.0</th>\n",
              "    </tr>\n",
              "    <tr>\n",
              "      <th>3.0</th>\n",
              "    </tr>\n",
              "    <tr>\n",
              "      <th>4.0</th>\n",
              "    </tr>\n",
              "    <tr>\n",
              "      <th>5.0</th>\n",
              "    </tr>\n",
              "    <tr>\n",
              "      <th>6.0</th>\n",
              "    </tr>\n",
              "    <tr>\n",
              "      <th>8.0</th>\n",
              "    </tr>\n",
              "    <tr>\n",
              "      <th>12.0</th>\n",
              "    </tr>\n",
              "    <tr>\n",
              "      <th>36.0</th>\n",
              "    </tr>\n",
              "    <tr>\n",
              "      <th>37.0</th>\n",
              "    </tr>\n",
              "    <tr>\n",
              "      <th rowspan=\"12\" valign=\"top\">Noise - Vehicle</th>\n",
              "      <th>0.0</th>\n",
              "    </tr>\n",
              "    <tr>\n",
              "      <th>1.0</th>\n",
              "    </tr>\n",
              "    <tr>\n",
              "      <th>2.0</th>\n",
              "    </tr>\n",
              "    <tr>\n",
              "      <th>3.0</th>\n",
              "    </tr>\n",
              "    <tr>\n",
              "      <th>4.0</th>\n",
              "    </tr>\n",
              "    <tr>\n",
              "      <th>5.0</th>\n",
              "    </tr>\n",
              "    <tr>\n",
              "      <th>6.0</th>\n",
              "    </tr>\n",
              "    <tr>\n",
              "      <th>7.0</th>\n",
              "    </tr>\n",
              "    <tr>\n",
              "      <th>8.0</th>\n",
              "    </tr>\n",
              "    <tr>\n",
              "      <th>11.0</th>\n",
              "    </tr>\n",
              "    <tr>\n",
              "      <th>12.0</th>\n",
              "    </tr>\n",
              "    <tr>\n",
              "      <th>31.0</th>\n",
              "    </tr>\n",
              "    <tr>\n",
              "      <th rowspan=\"2\" valign=\"top\">Posting Advertisement</th>\n",
              "      <th>1.0</th>\n",
              "    </tr>\n",
              "    <tr>\n",
              "      <th>2.0</th>\n",
              "    </tr>\n",
              "    <tr>\n",
              "      <th rowspan=\"7\" valign=\"top\">Traffic</th>\n",
              "      <th>0.0</th>\n",
              "    </tr>\n",
              "    <tr>\n",
              "      <th>1.0</th>\n",
              "    </tr>\n",
              "    <tr>\n",
              "      <th>2.0</th>\n",
              "    </tr>\n",
              "    <tr>\n",
              "      <th>3.0</th>\n",
              "    </tr>\n",
              "    <tr>\n",
              "      <th>4.0</th>\n",
              "    </tr>\n",
              "    <tr>\n",
              "      <th>5.0</th>\n",
              "    </tr>\n",
              "    <tr>\n",
              "      <th>9.0</th>\n",
              "    </tr>\n",
              "    <tr>\n",
              "      <th rowspan=\"9\" valign=\"top\">Vending</th>\n",
              "      <th>0.0</th>\n",
              "    </tr>\n",
              "    <tr>\n",
              "      <th>1.0</th>\n",
              "    </tr>\n",
              "    <tr>\n",
              "      <th>2.0</th>\n",
              "    </tr>\n",
              "    <tr>\n",
              "      <th>3.0</th>\n",
              "    </tr>\n",
              "    <tr>\n",
              "      <th>4.0</th>\n",
              "    </tr>\n",
              "    <tr>\n",
              "      <th>5.0</th>\n",
              "    </tr>\n",
              "    <tr>\n",
              "      <th>6.0</th>\n",
              "    </tr>\n",
              "    <tr>\n",
              "      <th>7.0</th>\n",
              "    </tr>\n",
              "    <tr>\n",
              "      <th>9.0</th>\n",
              "    </tr>\n",
              "  </tbody>\n",
              "</table>\n",
              "</div>"
            ],
            "text/plain": [
              "Empty DataFrame\n",
              "Columns: []\n",
              "Index: [(Animal Abuse, 0.0), (Animal Abuse, 1.0), (Animal Abuse, 2.0), (Animal Abuse, 3.0), (Animal Abuse, 4.0), (Animal Abuse, 6.0), (Animal Abuse, 7.0), (Animal Abuse, 8.0), (Animal Abuse, 10.0), (Animal Abuse, 11.0), (Blocked Driveway, 0.0), (Blocked Driveway, 1.0), (Blocked Driveway, 2.0), (Blocked Driveway, 3.0), (Blocked Driveway, 4.0), (Blocked Driveway, 5.0), (Blocked Driveway, 6.0), (Blocked Driveway, 7.0), (Blocked Driveway, 8.0), (Blocked Driveway, 9.0), (Blocked Driveway, 10.0), (Blocked Driveway, 11.0), (Blocked Driveway, 12.0), (Blocked Driveway, 13.0), (Blocked Driveway, 14.0), (Blocked Driveway, 15.0), (Blocked Driveway, 16.0), (Blocked Driveway, 17.0), (Blocked Driveway, 18.0), (Blocked Driveway, 19.0), (Blocked Driveway, 24.0), (Blocked Driveway, 25.0), (Blocked Driveway, 27.0), (Blocked Driveway, 28.0), (Blocked Driveway, 29.0), (Blocked Driveway, 64.0), (Derelict Vehicle, 0.0), (Derelict Vehicle, 1.0), (Derelict Vehicle, 2.0), (Derelict Vehicle, 3.0), (Derelict Vehicle, 4.0), (Derelict Vehicle, 5.0), (Derelict Vehicle, 6.0), (Derelict Vehicle, 7.0), (Derelict Vehicle, 8.0), (Derelict Vehicle, 9.0), (Derelict Vehicle, 10.0), (Derelict Vehicle, 11.0), (Derelict Vehicle, 12.0), (Derelict Vehicle, 13.0), (Derelict Vehicle, 14.0), (Derelict Vehicle, 15.0), (Derelict Vehicle, 16.0), (Derelict Vehicle, 25.0), (Derelict Vehicle, 29.0), (Drinking, 0.0), (Drinking, 3.0), (Drinking, 4.0), (Illegal Parking, 0.0), (Illegal Parking, 1.0), (Illegal Parking, 2.0), (Illegal Parking, 3.0), (Illegal Parking, 4.0), (Illegal Parking, 5.0), (Illegal Parking, 6.0), (Illegal Parking, 7.0), (Illegal Parking, 8.0), (Illegal Parking, 9.0), (Illegal Parking, 10.0), (Illegal Parking, 11.0), (Illegal Parking, 12.0), (Illegal Parking, 13.0), (Illegal Parking, 14.0), (Illegal Parking, 15.0), (Illegal Parking, 16.0), (Illegal Parking, 18.0), (Illegal Parking, 20.0), (Illegal Parking, 25.0), (Illegal Parking, 31.0), (Noise - Commercial, 0.0), (Noise - Commercial, 1.0), (Noise - Commercial, 2.0), (Noise - Commercial, 3.0), (Noise - Commercial, 4.0), (Noise - Commercial, 5.0), (Noise - Commercial, 6.0), (Noise - Commercial, 7.0), (Noise - Commercial, 9.0), (Noise - Commercial, 11.0), (Noise - Commercial, 14.0), (Noise - Commercial, 16.0), (Noise - Commercial, 23.0), (Noise - House of Worship, 0.0), (Noise - House of Worship, 1.0), (Noise - Park, 0.0), (Noise - Park, 12.0), (Noise - Street/Sidewalk, 0.0), (Noise - Street/Sidewalk, 1.0), (Noise - Street/Sidewalk, 2.0), (Noise - Street/Sidewalk, 3.0), ...]"
            ]
          },
          "metadata": {
            "tags": []
          },
          "execution_count": 58
        }
      ]
    },
    {
      "cell_type": "code",
      "metadata": {
        "id": "v58s256PW3X1"
      },
      "source": [
        "Animal_Abuse=[0.0,1.0,2.0,3.0,4.0,5.0,6.0,7.0,8.0,9.0,10.0,11.0,12.0,13.0,14.0,15.0,16.0,17.0,18.0,19.0,20.0,21.0,22.0,23.0,24.0,25.0,26.0,27.0,28.0,29.0,30.0,31.0,32.0,33.0,34.0,35.0,36.0,37.0,38.0,40.0,41.0,43.0,44.0,45.0,46.0,47.0,48.0,49.0,50.0,51.0,52.0,54.0,56.0,65.0,71.0,76.0,77.0,78.0,79.0,82.0,108.0,126.0,519.0]\n"
      ],
      "execution_count": 59,
      "outputs": []
    },
    {
      "cell_type": "code",
      "metadata": {
        "id": "xZqc33DEW9ZM"
      },
      "source": [
        "Animal_in_a_Park=[336.0]"
      ],
      "execution_count": 60,
      "outputs": []
    },
    {
      "cell_type": "code",
      "metadata": {
        "id": "EDTiD84bW_YS"
      },
      "source": [
        "Blocked_Driveway=[0.0,1.0,2.0,3.0,4.0,5.0,6.0,7.0,8.0,9.0,10.0,11.0,12.0,13.0,14.0,15.0,16.0,17.0,18.0,19.0,20.0,21.0,22.0,23.0,24.0,25.0,26.0,27.0,28.0,29.0,30.0,31.0,32.0,33.0,34.0,35.0,36.0,37.0,38.0,39.0,40.0,41.0,42.0,43.0,44.0,45.0,46.0,47.0,48.0,49.0,50.0,51.0,52.0,53.0,54.0,55.0,56.0,57.0,58.0,59.0,61.0,62.0,63.0,64.0,65.0,66.0,67.0,68.0,69.0,70.0,71.0,72.0,73.0,74.0,75.0,76.0,77.0,78.0,79.0,80.0,81.0,82.0,83.0,84.0,86.0,88.0,90.0,95.0,96.0,100.0,103.0,104.0,107.0,121.0,134.0,141.0,146.0,148.0]"
      ],
      "execution_count": 61,
      "outputs": []
    },
    {
      "cell_type": "code",
      "metadata": {
        "id": "058S1H8HXBNr"
      },
      "source": [
        "Derelict_Vehicle=[0.0,1.0,2.0,3.0,4.0,5.0,6.0,7.0,8.0,9.0,10.0,11.0,12.0,13.0,14.0,15.0,16.0,17.0,18.0,19.0,20.0,21.0,22.0,23.0,24.0,25.0,26.0,27.0,28.0,29.0,30.0,31.0,32.0,33.0,34.0,35.0,36.0,37.0,38.0,39.0,40.0,41.0,42.0,43.0,44.0,45.0,46.0,47.0,48.0,49.0,50.0,51.0,52.0,53.0,54.0,55.0,56.0,57.0,58.0,59.0,60.0,61.0,62.0,63.0,64.0,65.0,66.0,67.0,68.0,69.0,70.0,71.0,72.0,73.0,76.0,77.0,78.0,79.0,80.0,81.0,83.0,85.0,88.0,89.0,90.0,91.0,92.0,93.0,94.0,95.0,97.0,100.0,101.0,105.0,107.0,111.0,115.0,117.0,118.0,120.0,121.0,127.0,141.0,142.0,161.0,162.0,169.0,192.0,200.0,223.0]"
      ],
      "execution_count": 62,
      "outputs": []
    },
    {
      "cell_type": "code",
      "metadata": {
        "id": "eVDZ-L16XDVW"
      },
      "source": [
        "Disorderly_Youth=[0.0,1.0,2.0,3.0,4.0,5.0,6.0,7.0,8.0,9.0,10.0,11.0,15.0,16.0,17.0,18.0,19.0,20.0,28.0]"
      ],
      "execution_count": 63,
      "outputs": []
    },
    {
      "cell_type": "code",
      "metadata": {
        "id": "3Uf0Y_d6XFMY"
      },
      "source": [
        "Drinking=[0.0,1.0,2.0,3.0,4.0,5.0,6.0,7.0,8.0,9.0,10.0,11.0,12.0,13.0,14.0,15.0,16.0,17.0,18.0,19.0,20.0,22.0,24.0,28.0,29.0,33.0,36.0,44.0,59.0,61.0,94.0]"
      ],
      "execution_count": 64,
      "outputs": []
    },
    {
      "cell_type": "code",
      "metadata": {
        "id": "NMIScoOpXGvJ"
      },
      "source": [
        "Graffiti=[0.0,1.0,2.0,3.0,4.0,5.0,6.0,7.0,8.0,9.0,10.0,11.0,12.0,13.0,14.0,15.0,16.0,18.0,20.0,22.0,25.0,26.0,39.0,53.0,54.0]"
      ],
      "execution_count": 65,
      "outputs": []
    },
    {
      "cell_type": "code",
      "metadata": {
        "id": "mFkxMbSaXI56"
      },
      "source": [
        "Illegal_Parking=[0.0,1.0,2.0,3.0,4.0,5.0,6.0,7.0,8.0,9.0,10.0,11.0,12.0,13.0,14.0,15.0,16.0,17.0,18.0,19.0,20.0,21.0,22.0,23.0,24.0,25.0,26.0,27.0,28.0,29.0,30.0,31.0,32.0,33.0,34.0,35.0,36.0,37.0,38.0,39.0,40.0,41.0,42.0,43.0,44.0,45.0,46.0,47.0,48.0,49.0,50.0,51.0,52.0,53.0,54.0,55.0,56.0,57.0,58.0,59.0,60.0,61.0,62.0,64.0,65.0,66.0,67.0,69.0,70.0,71.0,72.0,73.0,74.0,75.0,76.0,77.0,78.0,79.0,83.0,84.0,87.0,89.0,92.0,97.0,98.0,100.0,106.0,114.0,123.0,125.0,126.0,146.0,147.0,152.0,160.0,164.0,577.0]"
      ],
      "execution_count": 66,
      "outputs": []
    },
    {
      "cell_type": "code",
      "metadata": {
        "id": "biLB-UUPXKtI"
      },
      "source": [
        "Noise_Commercial=[0.0,1.0,2.0,3.0,4.0,5.0,6.0,7.0,8.0,9.0,10.0,11.0,12.0,13.0,14.0,15.0,16.0,17.0,18.0,19.0,20.0,21.0,22.0,23.0,24.0,25.0,26.0,27.0,28.0,29.0,30.0,31.0,32.0,33.0,34.0,35.0,36.0,37.0,38.0,39.0,40.0,41.0,42.0,43.0,44.0,45.0,46.0,47.0,48.0,49.0,50.0,54.0,55.0,57.0,58.0,59.0,63.0,67.0,73.0,81.0,106.0,124.0,125.0,126.0]"
      ],
      "execution_count": 67,
      "outputs": []
    },
    {
      "cell_type": "code",
      "metadata": {
        "id": "DXzZINyLXMaD"
      },
      "source": [
        "Noise_House_of_Worship=[0.0,1.0,2.0,3.0,4.0,5.0,6.0,7.0,8.0,9.0,10.0,11.0,12.0,13.0,14.0,15.0,17.0,18.0,19.0,20.0,21.0,27.0,34.0,42.0,48.0,49.0]"
      ],
      "execution_count": 68,
      "outputs": []
    },
    {
      "cell_type": "code",
      "metadata": {
        "id": "B95DDPZSXN_j"
      },
      "source": [
        "Noise_Park=[0.0,1.0,2.0,3.0,4.0,5.0,6.0,7.0,8.0,9.0,10.0,11.0,12.0,13.0,14.0,15.0,16.0,17.0,18.0,19.0,20.0,21.0,22.0,23.0,24.0,25.0,26.0,27.0,29.0,30.0,32.0,33.0,34.0,35.0,48.0,52.0,53.0,57.0]"
      ],
      "execution_count": 69,
      "outputs": []
    },
    {
      "cell_type": "code",
      "metadata": {
        "id": "T_toRliUXPlr"
      },
      "source": [
        "Noise_Street_Sidewalk=[0.0,1.0,2.0,3.0,4.0,5.0,6.0,7.0,8.0,9.0,10.0,11.0,12.0,13.0,14.0,15.0,16.0,17.0,18.0,19.0,20.0,21.0,22.0,23.0,24.0,25.0,26.0,27.0,28.0,29.0,30.0,31.0,32.0,33.0,34.0,35.0,36.0,37.0,38.0,39.0,40.0,41.0,42.0,43.0,44.0,45.0,46.0,47.0,48.0,49.0,50.0,51.0,52.0,53.0,58.0,59.0,60.0,61.0,68.0,73.0,75.0,76.0,77.0,120.0,124.0,125.0,126.0,145.0,146.0,147.0,592.0]"
      ],
      "execution_count": 70,
      "outputs": []
    },
    {
      "cell_type": "code",
      "metadata": {
        "id": "yYJez1BCXRWt"
      },
      "source": [
        "Noise_Vehicle=[0.0,1.0,2.0,3.0,4.0,5.0,6.0,7.0,8.0,9.0,10.0,11.0,12.0,13.0,14.0,15.0,16.0,17.0,18.0,19.0,20.0,21.0,22.0,23.0,24.0,25.0,26.0,27.0,28.0,29.0,30.0,31.0,32.0,33.0,34.0,35.0,36.0,37.0,38.0,39.0,40.0,41.0,42.0,43.0,44.0,45.0,47.0,48.0,49.0,50.0,51.0,52.0,53.0,61.0,68.0,69.0,84.0,101.0,119.0,147.0]"
      ],
      "execution_count": 71,
      "outputs": []
    },
    {
      "cell_type": "code",
      "metadata": {
        "id": "rKYt3kLkXS8p"
      },
      "source": [
        "Posting_Advertisement=[0.0,1.0,2.0,3.0,4.0,5.0,6.0,7.0,8.0,9.0,10.0,11.0,12.0,13.0,15.0,25.0]"
      ],
      "execution_count": 72,
      "outputs": []
    },
    {
      "cell_type": "code",
      "metadata": {
        "id": "xdX0rXmPXU8q"
      },
      "source": [
        "Traffic=[0.0,1.0,2.0,3.0,4.0,5.0,6.0,7.0,8.0,9.0,10.0,11.0,12.0,13.0,14.0,15.0,16.0,17.0,18.0,19.0,20.0,21.0,23.0,24.0,25.0,26.0,28.0,29.0,30.0,31.0,32.0,33.0,34.0,35.0,36.0,37.0,39.0,44.0,46.0,47.0,50.0,51.0,56.0,57.0,60.0]"
      ],
      "execution_count": 73,
      "outputs": []
    },
    {
      "cell_type": "code",
      "metadata": {
        "id": "3moazvl9XWie"
      },
      "source": [
        "Vending=[0.0,1.0,2.0,3.0,4.0,5.0,6.0,7.0,8.0,9.0,10.0,11.0,12.0,13.0,14.0,15.0,16.0,17.0,18.0,19.0,20.0,21.0,22.0,23.0,25.0,26.0,27.0,28.0,30.0,31.0,32.0,35.0,36.0,37.0,52.0,64.0,65.0,66.0,76.0]"
      ],
      "execution_count": 74,
      "outputs": []
    },
    {
      "cell_type": "code",
      "metadata": {
        "colab": {
          "base_uri": "https://localhost:8080/"
        },
        "id": "ia0r929tXYIw",
        "outputId": "3a231a0a-d53e-4cf0-b38f-38382e711481"
      },
      "source": [
        "stats.f_oneway(Animal_Abuse,Animal_in_a_Park,Blocked_Driveway,Derelict_Vehicle,Disorderly_Youth,Drinking,Graffiti,Illegal_Parking,Noise_Commercial,Noise_House_of_Worship,Noise_Park,Noise_Street_Sidewalk,Noise_Vehicle,Posting_Advertisement,Traffic,Vending)\n"
      ],
      "execution_count": 75,
      "outputs": [
        {
          "output_type": "execute_result",
          "data": {
            "text/plain": [
              "F_onewayResult(statistic=10.235448309314435, pvalue=1.2203389179177725e-22)"
            ]
          },
          "metadata": {
            "tags": []
          },
          "execution_count": 75
        }
      ]
    },
    {
      "cell_type": "code",
      "metadata": {
        "colab": {
          "base_uri": "https://localhost:8080/"
        },
        "id": "yUHMxlYRXbJp",
        "outputId": "d4f41779-b672-4c09-8ad6-8cf527ff9338"
      },
      "source": [
        "Animal_Abuse = pd.Series(Animal_Abuse)\n",
        "Animal_Abuse.mean()"
      ],
      "execution_count": 76,
      "outputs": [
        {
          "output_type": "execute_result",
          "data": {
            "text/plain": [
              "42.666666666666664"
            ]
          },
          "metadata": {
            "tags": []
          },
          "execution_count": 76
        }
      ]
    },
    {
      "cell_type": "code",
      "metadata": {
        "colab": {
          "base_uri": "https://localhost:8080/"
        },
        "id": "yMD3yfXQXeIC",
        "outputId": "2b2aae12-e562-41df-d280-c213c5135204"
      },
      "source": [
        "Animal_in_a_Park = pd.Series(Animal_in_a_Park)\n",
        "Animal_in_a_Park.mean()"
      ],
      "execution_count": 77,
      "outputs": [
        {
          "output_type": "execute_result",
          "data": {
            "text/plain": [
              "336.0"
            ]
          },
          "metadata": {
            "tags": []
          },
          "execution_count": 77
        }
      ]
    },
    {
      "cell_type": "code",
      "metadata": {
        "colab": {
          "base_uri": "https://localhost:8080/"
        },
        "id": "-n1dRHZXXg3F",
        "outputId": "dc979c6f-0e79-4183-fb09-b091ba20a9c1"
      },
      "source": [
        "Blocked_Driveway = pd.Series(Blocked_Driveway)\n",
        "Blocked_Driveway.mean()"
      ],
      "execution_count": 78,
      "outputs": [
        {
          "output_type": "execute_result",
          "data": {
            "text/plain": [
              "51.724489795918366"
            ]
          },
          "metadata": {
            "tags": []
          },
          "execution_count": 78
        }
      ]
    },
    {
      "cell_type": "code",
      "metadata": {
        "colab": {
          "base_uri": "https://localhost:8080/"
        },
        "id": "zfH2zJjVXiTT",
        "outputId": "3e6138d1-e033-4de4-9bbb-0f29a0c61a01"
      },
      "source": [
        "Derelict_Vehicle = pd.Series(Derelict_Vehicle)\n",
        "Derelict_Vehicle.mean()"
      ],
      "execution_count": 79,
      "outputs": [
        {
          "output_type": "execute_result",
          "data": {
            "text/plain": [
              "61.82727272727273"
            ]
          },
          "metadata": {
            "tags": []
          },
          "execution_count": 79
        }
      ]
    },
    {
      "cell_type": "code",
      "metadata": {
        "colab": {
          "base_uri": "https://localhost:8080/"
        },
        "id": "vWiWiTzeXjvL",
        "outputId": "f3bc5801-ee52-4e01-e566-99dd5034c547"
      },
      "source": [
        "Disorderly_Youth = pd.Series(Disorderly_Youth)\n",
        "Disorderly_Youth.mean()"
      ],
      "execution_count": 80,
      "outputs": [
        {
          "output_type": "execute_result",
          "data": {
            "text/plain": [
              "10.473684210526315"
            ]
          },
          "metadata": {
            "tags": []
          },
          "execution_count": 80
        }
      ]
    },
    {
      "cell_type": "code",
      "metadata": {
        "colab": {
          "base_uri": "https://localhost:8080/"
        },
        "id": "QIh1uMbfXlH9",
        "outputId": "026cd624-ec51-430c-a304-26edb58e6a49"
      },
      "source": [
        "Drinking = pd.Series(Drinking)\n",
        "Drinking.mean()"
      ],
      "execution_count": 81,
      "outputs": [
        {
          "output_type": "execute_result",
          "data": {
            "text/plain": [
              "20.64516129032258"
            ]
          },
          "metadata": {
            "tags": []
          },
          "execution_count": 81
        }
      ]
    },
    {
      "cell_type": "code",
      "metadata": {
        "colab": {
          "base_uri": "https://localhost:8080/"
        },
        "id": "m0RPYhQLXm_n",
        "outputId": "94820bb9-bf01-41a3-ead0-11b84edc0537"
      },
      "source": [
        "Graffiti = pd.Series(Graffiti)\n",
        "Graffiti.mean()"
      ],
      "execution_count": 82,
      "outputs": [
        {
          "output_type": "execute_result",
          "data": {
            "text/plain": [
              "15.72"
            ]
          },
          "metadata": {
            "tags": []
          },
          "execution_count": 82
        }
      ]
    },
    {
      "cell_type": "code",
      "metadata": {
        "colab": {
          "base_uri": "https://localhost:8080/"
        },
        "id": "wcbUuTP3XobK",
        "outputId": "c3157873-9758-470b-8c2d-a2540fcc9b0c"
      },
      "source": [
        "Illegal_Parking = pd.Series(Illegal_Parking)\n",
        "Animal_Abuse.mean()"
      ],
      "execution_count": 83,
      "outputs": [
        {
          "output_type": "execute_result",
          "data": {
            "text/plain": [
              "42.666666666666664"
            ]
          },
          "metadata": {
            "tags": []
          },
          "execution_count": 83
        }
      ]
    },
    {
      "cell_type": "code",
      "metadata": {
        "colab": {
          "base_uri": "https://localhost:8080/"
        },
        "id": "WME39MJUXqdH",
        "outputId": "db90c3df-e14d-48db-f410-d37ba25216d6"
      },
      "source": [
        "Noise_Commercial = pd.Series(Noise_Commercial)\n",
        "Noise_Commercial.mean()"
      ],
      "execution_count": 84,
      "outputs": [
        {
          "output_type": "execute_result",
          "data": {
            "text/plain": [
              "36.296875"
            ]
          },
          "metadata": {
            "tags": []
          },
          "execution_count": 84
        }
      ]
    },
    {
      "cell_type": "code",
      "metadata": {
        "colab": {
          "base_uri": "https://localhost:8080/"
        },
        "id": "bDa1NS0sXsGe",
        "outputId": "f349249e-94f9-4334-eb64-93fbd6ef9c73"
      },
      "source": [
        "Noise_House_of_Worship = pd.Series(Noise_House_of_Worship)\n",
        "Noise_House_of_Worship.mean()\n"
      ],
      "execution_count": 85,
      "outputs": [
        {
          "output_type": "execute_result",
          "data": {
            "text/plain": [
              "15.961538461538462"
            ]
          },
          "metadata": {
            "tags": []
          },
          "execution_count": 85
        }
      ]
    },
    {
      "cell_type": "code",
      "metadata": {
        "colab": {
          "base_uri": "https://localhost:8080/"
        },
        "id": "gOXD_dRmXuQw",
        "outputId": "8e45519e-dbda-4798-b833-1d066eda7bb8"
      },
      "source": [
        "Noise_Park = pd.Series(Noise_Park)\n",
        "Noise_Park.mean()"
      ],
      "execution_count": 86,
      "outputs": [
        {
          "output_type": "execute_result",
          "data": {
            "text/plain": [
              "20.55263157894737"
            ]
          },
          "metadata": {
            "tags": []
          },
          "execution_count": 86
        }
      ]
    },
    {
      "cell_type": "code",
      "metadata": {
        "colab": {
          "base_uri": "https://localhost:8080/"
        },
        "id": "3Znty0POXv26",
        "outputId": "a84f936c-3ef9-415c-e244-b8d444f2e117"
      },
      "source": [
        "Noise_Street_Sidewalk = pd.Series(Noise_Street_Sidewalk)\n",
        "Noise_Street_Sidewalk.mean()"
      ],
      "execution_count": 87,
      "outputs": [
        {
          "output_type": "execute_result",
          "data": {
            "text/plain": [
              "50.183098591549296"
            ]
          },
          "metadata": {
            "tags": []
          },
          "execution_count": 87
        }
      ]
    },
    {
      "cell_type": "code",
      "metadata": {
        "colab": {
          "base_uri": "https://localhost:8080/"
        },
        "id": "A8oJvpIUXx0H",
        "outputId": "7a3608fd-4b07-4dc0-a35e-d9f050431956"
      },
      "source": [
        "Noise_Vehicle = pd.Series(Noise_Vehicle)\n",
        "Noise_Vehicle.mean()"
      ],
      "execution_count": 88,
      "outputs": [
        {
          "output_type": "execute_result",
          "data": {
            "text/plain": [
              "33.9"
            ]
          },
          "metadata": {
            "tags": []
          },
          "execution_count": 88
        }
      ]
    },
    {
      "cell_type": "code",
      "metadata": {
        "colab": {
          "base_uri": "https://localhost:8080/"
        },
        "id": "bgQPPmAAXzzT",
        "outputId": "4c2874de-4089-4cde-cf06-ac261605f6ac"
      },
      "source": [
        "Posting_Advertisement = pd.Series(Posting_Advertisement)\n",
        "Posting_Advertisement.mean()"
      ],
      "execution_count": 89,
      "outputs": [
        {
          "output_type": "execute_result",
          "data": {
            "text/plain": [
              "8.1875"
            ]
          },
          "metadata": {
            "tags": []
          },
          "execution_count": 89
        }
      ]
    },
    {
      "cell_type": "code",
      "metadata": {
        "colab": {
          "base_uri": "https://localhost:8080/"
        },
        "id": "hOiJZ_2JX1O7",
        "outputId": "10077565-22bf-4769-d8a6-f5c895fdb3bb"
      },
      "source": [
        "Traffic = pd.Series(Traffic)\n",
        "Traffic.mean()"
      ],
      "execution_count": 90,
      "outputs": [
        {
          "output_type": "execute_result",
          "data": {
            "text/plain": [
              "24.533333333333335"
            ]
          },
          "metadata": {
            "tags": []
          },
          "execution_count": 90
        }
      ]
    },
    {
      "cell_type": "code",
      "metadata": {
        "colab": {
          "base_uri": "https://localhost:8080/"
        },
        "id": "0NyedDG6X2tA",
        "outputId": "7858e4de-6043-41f2-a27d-1506e3f7d450"
      },
      "source": [
        "Vending = pd.Series(Vending)\n",
        "Vending.mean()"
      ],
      "execution_count": 91,
      "outputs": [
        {
          "output_type": "execute_result",
          "data": {
            "text/plain": [
              "23.23076923076923"
            ]
          },
          "metadata": {
            "tags": []
          },
          "execution_count": 91
        }
      ]
    },
    {
      "cell_type": "code",
      "metadata": {
        "id": "WBapSTz6X4Rv"
      },
      "source": [
        ""
      ],
      "execution_count": null,
      "outputs": []
    }
  ]
}